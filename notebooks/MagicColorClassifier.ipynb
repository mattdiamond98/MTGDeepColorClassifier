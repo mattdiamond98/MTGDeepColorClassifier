{
  "nbformat": 4,
  "nbformat_minor": 0,
  "metadata": {
    "colab": {
      "name": "MagicColorClassifier.ipynb",
      "provenance": []
    },
    "kernelspec": {
      "name": "python3",
      "display_name": "Python 3"
    },
    "language_info": {
      "name": "python"
    },
    "accelerator": "GPU",
    "widgets": {
      "application/vnd.jupyter.widget-state+json": {
        "a8b308fb4a67404d803968165f7722ee": {
          "model_module": "@jupyter-widgets/controls",
          "model_name": "HBoxModel",
          "model_module_version": "1.5.0",
          "state": {
            "_view_name": "HBoxView",
            "_dom_classes": [],
            "_model_name": "HBoxModel",
            "_view_module": "@jupyter-widgets/controls",
            "_model_module_version": "1.5.0",
            "_view_count": null,
            "_view_module_version": "1.5.0",
            "box_style": "",
            "layout": "IPY_MODEL_a2a02ac4e1624e8c8e5f597eeddcf826",
            "_model_module": "@jupyter-widgets/controls",
            "children": [
              "IPY_MODEL_90caf5b11a0d4ea7b00e02056d05d543",
              "IPY_MODEL_70607769421c4d76838984c1088f4b51",
              "IPY_MODEL_eb519736f14a4b2a80151f78b29afef0"
            ]
          }
        },
        "a2a02ac4e1624e8c8e5f597eeddcf826": {
          "model_module": "@jupyter-widgets/base",
          "model_name": "LayoutModel",
          "model_module_version": "1.2.0",
          "state": {
            "_view_name": "LayoutView",
            "grid_template_rows": null,
            "right": null,
            "justify_content": null,
            "_view_module": "@jupyter-widgets/base",
            "overflow": null,
            "_model_module_version": "1.2.0",
            "_view_count": null,
            "flex_flow": null,
            "width": null,
            "min_width": null,
            "border": null,
            "align_items": null,
            "bottom": null,
            "_model_module": "@jupyter-widgets/base",
            "top": null,
            "grid_column": null,
            "overflow_y": null,
            "overflow_x": null,
            "grid_auto_flow": null,
            "grid_area": null,
            "grid_template_columns": null,
            "flex": null,
            "_model_name": "LayoutModel",
            "justify_items": null,
            "grid_row": null,
            "max_height": null,
            "align_content": null,
            "visibility": null,
            "align_self": null,
            "height": null,
            "min_height": null,
            "padding": null,
            "grid_auto_rows": null,
            "grid_gap": null,
            "max_width": null,
            "order": null,
            "_view_module_version": "1.2.0",
            "grid_template_areas": null,
            "object_position": null,
            "object_fit": null,
            "grid_auto_columns": null,
            "margin": null,
            "display": null,
            "left": null
          }
        },
        "90caf5b11a0d4ea7b00e02056d05d543": {
          "model_module": "@jupyter-widgets/controls",
          "model_name": "HTMLModel",
          "model_module_version": "1.5.0",
          "state": {
            "_view_name": "HTMLView",
            "style": "IPY_MODEL_7d52427d8fc54974a5615a834970e059",
            "_dom_classes": [],
            "description": "",
            "_model_name": "HTMLModel",
            "placeholder": "​",
            "_view_module": "@jupyter-widgets/controls",
            "_model_module_version": "1.5.0",
            "value": "Downloading: 100%",
            "_view_count": null,
            "_view_module_version": "1.5.0",
            "description_tooltip": null,
            "_model_module": "@jupyter-widgets/controls",
            "layout": "IPY_MODEL_eae126dac5104d4e975b62d847a08ed3"
          }
        },
        "70607769421c4d76838984c1088f4b51": {
          "model_module": "@jupyter-widgets/controls",
          "model_name": "FloatProgressModel",
          "model_module_version": "1.5.0",
          "state": {
            "_view_name": "ProgressView",
            "style": "IPY_MODEL_ce6561ddca6a4422bc88dadd49ed9c26",
            "_dom_classes": [],
            "description": "",
            "_model_name": "FloatProgressModel",
            "bar_style": "success",
            "max": 231508,
            "_view_module": "@jupyter-widgets/controls",
            "_model_module_version": "1.5.0",
            "value": 231508,
            "_view_count": null,
            "_view_module_version": "1.5.0",
            "orientation": "horizontal",
            "min": 0,
            "description_tooltip": null,
            "_model_module": "@jupyter-widgets/controls",
            "layout": "IPY_MODEL_b7c6be64cd2d4281bc4d035a963f88c2"
          }
        },
        "eb519736f14a4b2a80151f78b29afef0": {
          "model_module": "@jupyter-widgets/controls",
          "model_name": "HTMLModel",
          "model_module_version": "1.5.0",
          "state": {
            "_view_name": "HTMLView",
            "style": "IPY_MODEL_4cbcc4fcfecc4bb78b9e75eeb6218302",
            "_dom_classes": [],
            "description": "",
            "_model_name": "HTMLModel",
            "placeholder": "​",
            "_view_module": "@jupyter-widgets/controls",
            "_model_module_version": "1.5.0",
            "value": " 226k/226k [00:00&lt;00:00, 907kB/s]",
            "_view_count": null,
            "_view_module_version": "1.5.0",
            "description_tooltip": null,
            "_model_module": "@jupyter-widgets/controls",
            "layout": "IPY_MODEL_3961f13b740d4179a76299e0d5ca5a3b"
          }
        },
        "7d52427d8fc54974a5615a834970e059": {
          "model_module": "@jupyter-widgets/controls",
          "model_name": "DescriptionStyleModel",
          "model_module_version": "1.5.0",
          "state": {
            "_view_name": "StyleView",
            "_model_name": "DescriptionStyleModel",
            "description_width": "",
            "_view_module": "@jupyter-widgets/base",
            "_model_module_version": "1.5.0",
            "_view_count": null,
            "_view_module_version": "1.2.0",
            "_model_module": "@jupyter-widgets/controls"
          }
        },
        "eae126dac5104d4e975b62d847a08ed3": {
          "model_module": "@jupyter-widgets/base",
          "model_name": "LayoutModel",
          "model_module_version": "1.2.0",
          "state": {
            "_view_name": "LayoutView",
            "grid_template_rows": null,
            "right": null,
            "justify_content": null,
            "_view_module": "@jupyter-widgets/base",
            "overflow": null,
            "_model_module_version": "1.2.0",
            "_view_count": null,
            "flex_flow": null,
            "width": null,
            "min_width": null,
            "border": null,
            "align_items": null,
            "bottom": null,
            "_model_module": "@jupyter-widgets/base",
            "top": null,
            "grid_column": null,
            "overflow_y": null,
            "overflow_x": null,
            "grid_auto_flow": null,
            "grid_area": null,
            "grid_template_columns": null,
            "flex": null,
            "_model_name": "LayoutModel",
            "justify_items": null,
            "grid_row": null,
            "max_height": null,
            "align_content": null,
            "visibility": null,
            "align_self": null,
            "height": null,
            "min_height": null,
            "padding": null,
            "grid_auto_rows": null,
            "grid_gap": null,
            "max_width": null,
            "order": null,
            "_view_module_version": "1.2.0",
            "grid_template_areas": null,
            "object_position": null,
            "object_fit": null,
            "grid_auto_columns": null,
            "margin": null,
            "display": null,
            "left": null
          }
        },
        "ce6561ddca6a4422bc88dadd49ed9c26": {
          "model_module": "@jupyter-widgets/controls",
          "model_name": "ProgressStyleModel",
          "model_module_version": "1.5.0",
          "state": {
            "_view_name": "StyleView",
            "_model_name": "ProgressStyleModel",
            "description_width": "",
            "_view_module": "@jupyter-widgets/base",
            "_model_module_version": "1.5.0",
            "_view_count": null,
            "_view_module_version": "1.2.0",
            "bar_color": null,
            "_model_module": "@jupyter-widgets/controls"
          }
        },
        "b7c6be64cd2d4281bc4d035a963f88c2": {
          "model_module": "@jupyter-widgets/base",
          "model_name": "LayoutModel",
          "model_module_version": "1.2.0",
          "state": {
            "_view_name": "LayoutView",
            "grid_template_rows": null,
            "right": null,
            "justify_content": null,
            "_view_module": "@jupyter-widgets/base",
            "overflow": null,
            "_model_module_version": "1.2.0",
            "_view_count": null,
            "flex_flow": null,
            "width": null,
            "min_width": null,
            "border": null,
            "align_items": null,
            "bottom": null,
            "_model_module": "@jupyter-widgets/base",
            "top": null,
            "grid_column": null,
            "overflow_y": null,
            "overflow_x": null,
            "grid_auto_flow": null,
            "grid_area": null,
            "grid_template_columns": null,
            "flex": null,
            "_model_name": "LayoutModel",
            "justify_items": null,
            "grid_row": null,
            "max_height": null,
            "align_content": null,
            "visibility": null,
            "align_self": null,
            "height": null,
            "min_height": null,
            "padding": null,
            "grid_auto_rows": null,
            "grid_gap": null,
            "max_width": null,
            "order": null,
            "_view_module_version": "1.2.0",
            "grid_template_areas": null,
            "object_position": null,
            "object_fit": null,
            "grid_auto_columns": null,
            "margin": null,
            "display": null,
            "left": null
          }
        },
        "4cbcc4fcfecc4bb78b9e75eeb6218302": {
          "model_module": "@jupyter-widgets/controls",
          "model_name": "DescriptionStyleModel",
          "model_module_version": "1.5.0",
          "state": {
            "_view_name": "StyleView",
            "_model_name": "DescriptionStyleModel",
            "description_width": "",
            "_view_module": "@jupyter-widgets/base",
            "_model_module_version": "1.5.0",
            "_view_count": null,
            "_view_module_version": "1.2.0",
            "_model_module": "@jupyter-widgets/controls"
          }
        },
        "3961f13b740d4179a76299e0d5ca5a3b": {
          "model_module": "@jupyter-widgets/base",
          "model_name": "LayoutModel",
          "model_module_version": "1.2.0",
          "state": {
            "_view_name": "LayoutView",
            "grid_template_rows": null,
            "right": null,
            "justify_content": null,
            "_view_module": "@jupyter-widgets/base",
            "overflow": null,
            "_model_module_version": "1.2.0",
            "_view_count": null,
            "flex_flow": null,
            "width": null,
            "min_width": null,
            "border": null,
            "align_items": null,
            "bottom": null,
            "_model_module": "@jupyter-widgets/base",
            "top": null,
            "grid_column": null,
            "overflow_y": null,
            "overflow_x": null,
            "grid_auto_flow": null,
            "grid_area": null,
            "grid_template_columns": null,
            "flex": null,
            "_model_name": "LayoutModel",
            "justify_items": null,
            "grid_row": null,
            "max_height": null,
            "align_content": null,
            "visibility": null,
            "align_self": null,
            "height": null,
            "min_height": null,
            "padding": null,
            "grid_auto_rows": null,
            "grid_gap": null,
            "max_width": null,
            "order": null,
            "_view_module_version": "1.2.0",
            "grid_template_areas": null,
            "object_position": null,
            "object_fit": null,
            "grid_auto_columns": null,
            "margin": null,
            "display": null,
            "left": null
          }
        },
        "216c7e1fcf634237851e8a246941abfe": {
          "model_module": "@jupyter-widgets/controls",
          "model_name": "HBoxModel",
          "model_module_version": "1.5.0",
          "state": {
            "_view_name": "HBoxView",
            "_dom_classes": [],
            "_model_name": "HBoxModel",
            "_view_module": "@jupyter-widgets/controls",
            "_model_module_version": "1.5.0",
            "_view_count": null,
            "_view_module_version": "1.5.0",
            "box_style": "",
            "layout": "IPY_MODEL_3811a9c0f560490abb2d11b0d36ff716",
            "_model_module": "@jupyter-widgets/controls",
            "children": [
              "IPY_MODEL_475f6ede55034c7daad4299c4ecf1d72",
              "IPY_MODEL_78a019aafde441b99434d1ac6d25fa69",
              "IPY_MODEL_43ac7c1aa6b64f62b6522a8ff203f660"
            ]
          }
        },
        "3811a9c0f560490abb2d11b0d36ff716": {
          "model_module": "@jupyter-widgets/base",
          "model_name": "LayoutModel",
          "model_module_version": "1.2.0",
          "state": {
            "_view_name": "LayoutView",
            "grid_template_rows": null,
            "right": null,
            "justify_content": null,
            "_view_module": "@jupyter-widgets/base",
            "overflow": null,
            "_model_module_version": "1.2.0",
            "_view_count": null,
            "flex_flow": null,
            "width": null,
            "min_width": null,
            "border": null,
            "align_items": null,
            "bottom": null,
            "_model_module": "@jupyter-widgets/base",
            "top": null,
            "grid_column": null,
            "overflow_y": null,
            "overflow_x": null,
            "grid_auto_flow": null,
            "grid_area": null,
            "grid_template_columns": null,
            "flex": null,
            "_model_name": "LayoutModel",
            "justify_items": null,
            "grid_row": null,
            "max_height": null,
            "align_content": null,
            "visibility": null,
            "align_self": null,
            "height": null,
            "min_height": null,
            "padding": null,
            "grid_auto_rows": null,
            "grid_gap": null,
            "max_width": null,
            "order": null,
            "_view_module_version": "1.2.0",
            "grid_template_areas": null,
            "object_position": null,
            "object_fit": null,
            "grid_auto_columns": null,
            "margin": null,
            "display": null,
            "left": null
          }
        },
        "475f6ede55034c7daad4299c4ecf1d72": {
          "model_module": "@jupyter-widgets/controls",
          "model_name": "HTMLModel",
          "model_module_version": "1.5.0",
          "state": {
            "_view_name": "HTMLView",
            "style": "IPY_MODEL_990694715cb346fea6d1e6a8bd30da9a",
            "_dom_classes": [],
            "description": "",
            "_model_name": "HTMLModel",
            "placeholder": "​",
            "_view_module": "@jupyter-widgets/controls",
            "_model_module_version": "1.5.0",
            "value": "Downloading: 100%",
            "_view_count": null,
            "_view_module_version": "1.5.0",
            "description_tooltip": null,
            "_model_module": "@jupyter-widgets/controls",
            "layout": "IPY_MODEL_d5d77cfd14c14545b091e8c0268bf9ba"
          }
        },
        "78a019aafde441b99434d1ac6d25fa69": {
          "model_module": "@jupyter-widgets/controls",
          "model_name": "FloatProgressModel",
          "model_module_version": "1.5.0",
          "state": {
            "_view_name": "ProgressView",
            "style": "IPY_MODEL_1f46ef8ebfa7478d81057be3cd6db8ea",
            "_dom_classes": [],
            "description": "",
            "_model_name": "FloatProgressModel",
            "bar_style": "success",
            "max": 28,
            "_view_module": "@jupyter-widgets/controls",
            "_model_module_version": "1.5.0",
            "value": 28,
            "_view_count": null,
            "_view_module_version": "1.5.0",
            "orientation": "horizontal",
            "min": 0,
            "description_tooltip": null,
            "_model_module": "@jupyter-widgets/controls",
            "layout": "IPY_MODEL_171bbcc63f1b49b3bf806925b9669ab9"
          }
        },
        "43ac7c1aa6b64f62b6522a8ff203f660": {
          "model_module": "@jupyter-widgets/controls",
          "model_name": "HTMLModel",
          "model_module_version": "1.5.0",
          "state": {
            "_view_name": "HTMLView",
            "style": "IPY_MODEL_c369468e049b433a828b979640632895",
            "_dom_classes": [],
            "description": "",
            "_model_name": "HTMLModel",
            "placeholder": "​",
            "_view_module": "@jupyter-widgets/controls",
            "_model_module_version": "1.5.0",
            "value": " 28.0/28.0 [00:00&lt;00:00, 692B/s]",
            "_view_count": null,
            "_view_module_version": "1.5.0",
            "description_tooltip": null,
            "_model_module": "@jupyter-widgets/controls",
            "layout": "IPY_MODEL_40b58de9cd5c4eb6986848e5309bc7fb"
          }
        },
        "990694715cb346fea6d1e6a8bd30da9a": {
          "model_module": "@jupyter-widgets/controls",
          "model_name": "DescriptionStyleModel",
          "model_module_version": "1.5.0",
          "state": {
            "_view_name": "StyleView",
            "_model_name": "DescriptionStyleModel",
            "description_width": "",
            "_view_module": "@jupyter-widgets/base",
            "_model_module_version": "1.5.0",
            "_view_count": null,
            "_view_module_version": "1.2.0",
            "_model_module": "@jupyter-widgets/controls"
          }
        },
        "d5d77cfd14c14545b091e8c0268bf9ba": {
          "model_module": "@jupyter-widgets/base",
          "model_name": "LayoutModel",
          "model_module_version": "1.2.0",
          "state": {
            "_view_name": "LayoutView",
            "grid_template_rows": null,
            "right": null,
            "justify_content": null,
            "_view_module": "@jupyter-widgets/base",
            "overflow": null,
            "_model_module_version": "1.2.0",
            "_view_count": null,
            "flex_flow": null,
            "width": null,
            "min_width": null,
            "border": null,
            "align_items": null,
            "bottom": null,
            "_model_module": "@jupyter-widgets/base",
            "top": null,
            "grid_column": null,
            "overflow_y": null,
            "overflow_x": null,
            "grid_auto_flow": null,
            "grid_area": null,
            "grid_template_columns": null,
            "flex": null,
            "_model_name": "LayoutModel",
            "justify_items": null,
            "grid_row": null,
            "max_height": null,
            "align_content": null,
            "visibility": null,
            "align_self": null,
            "height": null,
            "min_height": null,
            "padding": null,
            "grid_auto_rows": null,
            "grid_gap": null,
            "max_width": null,
            "order": null,
            "_view_module_version": "1.2.0",
            "grid_template_areas": null,
            "object_position": null,
            "object_fit": null,
            "grid_auto_columns": null,
            "margin": null,
            "display": null,
            "left": null
          }
        },
        "1f46ef8ebfa7478d81057be3cd6db8ea": {
          "model_module": "@jupyter-widgets/controls",
          "model_name": "ProgressStyleModel",
          "model_module_version": "1.5.0",
          "state": {
            "_view_name": "StyleView",
            "_model_name": "ProgressStyleModel",
            "description_width": "",
            "_view_module": "@jupyter-widgets/base",
            "_model_module_version": "1.5.0",
            "_view_count": null,
            "_view_module_version": "1.2.0",
            "bar_color": null,
            "_model_module": "@jupyter-widgets/controls"
          }
        },
        "171bbcc63f1b49b3bf806925b9669ab9": {
          "model_module": "@jupyter-widgets/base",
          "model_name": "LayoutModel",
          "model_module_version": "1.2.0",
          "state": {
            "_view_name": "LayoutView",
            "grid_template_rows": null,
            "right": null,
            "justify_content": null,
            "_view_module": "@jupyter-widgets/base",
            "overflow": null,
            "_model_module_version": "1.2.0",
            "_view_count": null,
            "flex_flow": null,
            "width": null,
            "min_width": null,
            "border": null,
            "align_items": null,
            "bottom": null,
            "_model_module": "@jupyter-widgets/base",
            "top": null,
            "grid_column": null,
            "overflow_y": null,
            "overflow_x": null,
            "grid_auto_flow": null,
            "grid_area": null,
            "grid_template_columns": null,
            "flex": null,
            "_model_name": "LayoutModel",
            "justify_items": null,
            "grid_row": null,
            "max_height": null,
            "align_content": null,
            "visibility": null,
            "align_self": null,
            "height": null,
            "min_height": null,
            "padding": null,
            "grid_auto_rows": null,
            "grid_gap": null,
            "max_width": null,
            "order": null,
            "_view_module_version": "1.2.0",
            "grid_template_areas": null,
            "object_position": null,
            "object_fit": null,
            "grid_auto_columns": null,
            "margin": null,
            "display": null,
            "left": null
          }
        },
        "c369468e049b433a828b979640632895": {
          "model_module": "@jupyter-widgets/controls",
          "model_name": "DescriptionStyleModel",
          "model_module_version": "1.5.0",
          "state": {
            "_view_name": "StyleView",
            "_model_name": "DescriptionStyleModel",
            "description_width": "",
            "_view_module": "@jupyter-widgets/base",
            "_model_module_version": "1.5.0",
            "_view_count": null,
            "_view_module_version": "1.2.0",
            "_model_module": "@jupyter-widgets/controls"
          }
        },
        "40b58de9cd5c4eb6986848e5309bc7fb": {
          "model_module": "@jupyter-widgets/base",
          "model_name": "LayoutModel",
          "model_module_version": "1.2.0",
          "state": {
            "_view_name": "LayoutView",
            "grid_template_rows": null,
            "right": null,
            "justify_content": null,
            "_view_module": "@jupyter-widgets/base",
            "overflow": null,
            "_model_module_version": "1.2.0",
            "_view_count": null,
            "flex_flow": null,
            "width": null,
            "min_width": null,
            "border": null,
            "align_items": null,
            "bottom": null,
            "_model_module": "@jupyter-widgets/base",
            "top": null,
            "grid_column": null,
            "overflow_y": null,
            "overflow_x": null,
            "grid_auto_flow": null,
            "grid_area": null,
            "grid_template_columns": null,
            "flex": null,
            "_model_name": "LayoutModel",
            "justify_items": null,
            "grid_row": null,
            "max_height": null,
            "align_content": null,
            "visibility": null,
            "align_self": null,
            "height": null,
            "min_height": null,
            "padding": null,
            "grid_auto_rows": null,
            "grid_gap": null,
            "max_width": null,
            "order": null,
            "_view_module_version": "1.2.0",
            "grid_template_areas": null,
            "object_position": null,
            "object_fit": null,
            "grid_auto_columns": null,
            "margin": null,
            "display": null,
            "left": null
          }
        },
        "c6313da97a074ca1a09ea878da5e5366": {
          "model_module": "@jupyter-widgets/controls",
          "model_name": "HBoxModel",
          "model_module_version": "1.5.0",
          "state": {
            "_view_name": "HBoxView",
            "_dom_classes": [],
            "_model_name": "HBoxModel",
            "_view_module": "@jupyter-widgets/controls",
            "_model_module_version": "1.5.0",
            "_view_count": null,
            "_view_module_version": "1.5.0",
            "box_style": "",
            "layout": "IPY_MODEL_6f1c689318174faead16b16c856ada95",
            "_model_module": "@jupyter-widgets/controls",
            "children": [
              "IPY_MODEL_8eca9021afdc4c8bb10af85ecd50ec40",
              "IPY_MODEL_fb85f6d024624876974db5af25daa225",
              "IPY_MODEL_8895f2bbbecb43d3b0ca1c8beaef2976"
            ]
          }
        },
        "6f1c689318174faead16b16c856ada95": {
          "model_module": "@jupyter-widgets/base",
          "model_name": "LayoutModel",
          "model_module_version": "1.2.0",
          "state": {
            "_view_name": "LayoutView",
            "grid_template_rows": null,
            "right": null,
            "justify_content": null,
            "_view_module": "@jupyter-widgets/base",
            "overflow": null,
            "_model_module_version": "1.2.0",
            "_view_count": null,
            "flex_flow": null,
            "width": null,
            "min_width": null,
            "border": null,
            "align_items": null,
            "bottom": null,
            "_model_module": "@jupyter-widgets/base",
            "top": null,
            "grid_column": null,
            "overflow_y": null,
            "overflow_x": null,
            "grid_auto_flow": null,
            "grid_area": null,
            "grid_template_columns": null,
            "flex": null,
            "_model_name": "LayoutModel",
            "justify_items": null,
            "grid_row": null,
            "max_height": null,
            "align_content": null,
            "visibility": null,
            "align_self": null,
            "height": null,
            "min_height": null,
            "padding": null,
            "grid_auto_rows": null,
            "grid_gap": null,
            "max_width": null,
            "order": null,
            "_view_module_version": "1.2.0",
            "grid_template_areas": null,
            "object_position": null,
            "object_fit": null,
            "grid_auto_columns": null,
            "margin": null,
            "display": null,
            "left": null
          }
        },
        "8eca9021afdc4c8bb10af85ecd50ec40": {
          "model_module": "@jupyter-widgets/controls",
          "model_name": "HTMLModel",
          "model_module_version": "1.5.0",
          "state": {
            "_view_name": "HTMLView",
            "style": "IPY_MODEL_24a070935366415c8a8bd16a34d3fe7e",
            "_dom_classes": [],
            "description": "",
            "_model_name": "HTMLModel",
            "placeholder": "​",
            "_view_module": "@jupyter-widgets/controls",
            "_model_module_version": "1.5.0",
            "value": "Downloading: 100%",
            "_view_count": null,
            "_view_module_version": "1.5.0",
            "description_tooltip": null,
            "_model_module": "@jupyter-widgets/controls",
            "layout": "IPY_MODEL_46cd47d3fe224b7b88e118b311d2f5a7"
          }
        },
        "fb85f6d024624876974db5af25daa225": {
          "model_module": "@jupyter-widgets/controls",
          "model_name": "FloatProgressModel",
          "model_module_version": "1.5.0",
          "state": {
            "_view_name": "ProgressView",
            "style": "IPY_MODEL_f9762d58e5be41c1bdefb60ce8e6ba38",
            "_dom_classes": [],
            "description": "",
            "_model_name": "FloatProgressModel",
            "bar_style": "success",
            "max": 466062,
            "_view_module": "@jupyter-widgets/controls",
            "_model_module_version": "1.5.0",
            "value": 466062,
            "_view_count": null,
            "_view_module_version": "1.5.0",
            "orientation": "horizontal",
            "min": 0,
            "description_tooltip": null,
            "_model_module": "@jupyter-widgets/controls",
            "layout": "IPY_MODEL_0f28863a724b4fc3843adab01f4add5e"
          }
        },
        "8895f2bbbecb43d3b0ca1c8beaef2976": {
          "model_module": "@jupyter-widgets/controls",
          "model_name": "HTMLModel",
          "model_module_version": "1.5.0",
          "state": {
            "_view_name": "HTMLView",
            "style": "IPY_MODEL_f405fe3741a14cbfad5ec934fc565338",
            "_dom_classes": [],
            "description": "",
            "_model_name": "HTMLModel",
            "placeholder": "​",
            "_view_module": "@jupyter-widgets/controls",
            "_model_module_version": "1.5.0",
            "value": " 455k/455k [00:00&lt;00:00, 958kB/s]",
            "_view_count": null,
            "_view_module_version": "1.5.0",
            "description_tooltip": null,
            "_model_module": "@jupyter-widgets/controls",
            "layout": "IPY_MODEL_ac7f0f712c5345d1bc96b001d60f2510"
          }
        },
        "24a070935366415c8a8bd16a34d3fe7e": {
          "model_module": "@jupyter-widgets/controls",
          "model_name": "DescriptionStyleModel",
          "model_module_version": "1.5.0",
          "state": {
            "_view_name": "StyleView",
            "_model_name": "DescriptionStyleModel",
            "description_width": "",
            "_view_module": "@jupyter-widgets/base",
            "_model_module_version": "1.5.0",
            "_view_count": null,
            "_view_module_version": "1.2.0",
            "_model_module": "@jupyter-widgets/controls"
          }
        },
        "46cd47d3fe224b7b88e118b311d2f5a7": {
          "model_module": "@jupyter-widgets/base",
          "model_name": "LayoutModel",
          "model_module_version": "1.2.0",
          "state": {
            "_view_name": "LayoutView",
            "grid_template_rows": null,
            "right": null,
            "justify_content": null,
            "_view_module": "@jupyter-widgets/base",
            "overflow": null,
            "_model_module_version": "1.2.0",
            "_view_count": null,
            "flex_flow": null,
            "width": null,
            "min_width": null,
            "border": null,
            "align_items": null,
            "bottom": null,
            "_model_module": "@jupyter-widgets/base",
            "top": null,
            "grid_column": null,
            "overflow_y": null,
            "overflow_x": null,
            "grid_auto_flow": null,
            "grid_area": null,
            "grid_template_columns": null,
            "flex": null,
            "_model_name": "LayoutModel",
            "justify_items": null,
            "grid_row": null,
            "max_height": null,
            "align_content": null,
            "visibility": null,
            "align_self": null,
            "height": null,
            "min_height": null,
            "padding": null,
            "grid_auto_rows": null,
            "grid_gap": null,
            "max_width": null,
            "order": null,
            "_view_module_version": "1.2.0",
            "grid_template_areas": null,
            "object_position": null,
            "object_fit": null,
            "grid_auto_columns": null,
            "margin": null,
            "display": null,
            "left": null
          }
        },
        "f9762d58e5be41c1bdefb60ce8e6ba38": {
          "model_module": "@jupyter-widgets/controls",
          "model_name": "ProgressStyleModel",
          "model_module_version": "1.5.0",
          "state": {
            "_view_name": "StyleView",
            "_model_name": "ProgressStyleModel",
            "description_width": "",
            "_view_module": "@jupyter-widgets/base",
            "_model_module_version": "1.5.0",
            "_view_count": null,
            "_view_module_version": "1.2.0",
            "bar_color": null,
            "_model_module": "@jupyter-widgets/controls"
          }
        },
        "0f28863a724b4fc3843adab01f4add5e": {
          "model_module": "@jupyter-widgets/base",
          "model_name": "LayoutModel",
          "model_module_version": "1.2.0",
          "state": {
            "_view_name": "LayoutView",
            "grid_template_rows": null,
            "right": null,
            "justify_content": null,
            "_view_module": "@jupyter-widgets/base",
            "overflow": null,
            "_model_module_version": "1.2.0",
            "_view_count": null,
            "flex_flow": null,
            "width": null,
            "min_width": null,
            "border": null,
            "align_items": null,
            "bottom": null,
            "_model_module": "@jupyter-widgets/base",
            "top": null,
            "grid_column": null,
            "overflow_y": null,
            "overflow_x": null,
            "grid_auto_flow": null,
            "grid_area": null,
            "grid_template_columns": null,
            "flex": null,
            "_model_name": "LayoutModel",
            "justify_items": null,
            "grid_row": null,
            "max_height": null,
            "align_content": null,
            "visibility": null,
            "align_self": null,
            "height": null,
            "min_height": null,
            "padding": null,
            "grid_auto_rows": null,
            "grid_gap": null,
            "max_width": null,
            "order": null,
            "_view_module_version": "1.2.0",
            "grid_template_areas": null,
            "object_position": null,
            "object_fit": null,
            "grid_auto_columns": null,
            "margin": null,
            "display": null,
            "left": null
          }
        },
        "f405fe3741a14cbfad5ec934fc565338": {
          "model_module": "@jupyter-widgets/controls",
          "model_name": "DescriptionStyleModel",
          "model_module_version": "1.5.0",
          "state": {
            "_view_name": "StyleView",
            "_model_name": "DescriptionStyleModel",
            "description_width": "",
            "_view_module": "@jupyter-widgets/base",
            "_model_module_version": "1.5.0",
            "_view_count": null,
            "_view_module_version": "1.2.0",
            "_model_module": "@jupyter-widgets/controls"
          }
        },
        "ac7f0f712c5345d1bc96b001d60f2510": {
          "model_module": "@jupyter-widgets/base",
          "model_name": "LayoutModel",
          "model_module_version": "1.2.0",
          "state": {
            "_view_name": "LayoutView",
            "grid_template_rows": null,
            "right": null,
            "justify_content": null,
            "_view_module": "@jupyter-widgets/base",
            "overflow": null,
            "_model_module_version": "1.2.0",
            "_view_count": null,
            "flex_flow": null,
            "width": null,
            "min_width": null,
            "border": null,
            "align_items": null,
            "bottom": null,
            "_model_module": "@jupyter-widgets/base",
            "top": null,
            "grid_column": null,
            "overflow_y": null,
            "overflow_x": null,
            "grid_auto_flow": null,
            "grid_area": null,
            "grid_template_columns": null,
            "flex": null,
            "_model_name": "LayoutModel",
            "justify_items": null,
            "grid_row": null,
            "max_height": null,
            "align_content": null,
            "visibility": null,
            "align_self": null,
            "height": null,
            "min_height": null,
            "padding": null,
            "grid_auto_rows": null,
            "grid_gap": null,
            "max_width": null,
            "order": null,
            "_view_module_version": "1.2.0",
            "grid_template_areas": null,
            "object_position": null,
            "object_fit": null,
            "grid_auto_columns": null,
            "margin": null,
            "display": null,
            "left": null
          }
        },
        "62992cd527874a4ea35bd87501c80948": {
          "model_module": "@jupyter-widgets/controls",
          "model_name": "HBoxModel",
          "model_module_version": "1.5.0",
          "state": {
            "_view_name": "HBoxView",
            "_dom_classes": [],
            "_model_name": "HBoxModel",
            "_view_module": "@jupyter-widgets/controls",
            "_model_module_version": "1.5.0",
            "_view_count": null,
            "_view_module_version": "1.5.0",
            "box_style": "",
            "layout": "IPY_MODEL_603e1573898e452fbb6baf9917ef05f0",
            "_model_module": "@jupyter-widgets/controls",
            "children": [
              "IPY_MODEL_b0554f66f4d440f590f4fe527965d806",
              "IPY_MODEL_326c67083d7c4ad9bace8c329796ccc5",
              "IPY_MODEL_05a722a0c46b450c8667f519784d93c2"
            ]
          }
        },
        "603e1573898e452fbb6baf9917ef05f0": {
          "model_module": "@jupyter-widgets/base",
          "model_name": "LayoutModel",
          "model_module_version": "1.2.0",
          "state": {
            "_view_name": "LayoutView",
            "grid_template_rows": null,
            "right": null,
            "justify_content": null,
            "_view_module": "@jupyter-widgets/base",
            "overflow": null,
            "_model_module_version": "1.2.0",
            "_view_count": null,
            "flex_flow": null,
            "width": null,
            "min_width": null,
            "border": null,
            "align_items": null,
            "bottom": null,
            "_model_module": "@jupyter-widgets/base",
            "top": null,
            "grid_column": null,
            "overflow_y": null,
            "overflow_x": null,
            "grid_auto_flow": null,
            "grid_area": null,
            "grid_template_columns": null,
            "flex": null,
            "_model_name": "LayoutModel",
            "justify_items": null,
            "grid_row": null,
            "max_height": null,
            "align_content": null,
            "visibility": null,
            "align_self": null,
            "height": null,
            "min_height": null,
            "padding": null,
            "grid_auto_rows": null,
            "grid_gap": null,
            "max_width": null,
            "order": null,
            "_view_module_version": "1.2.0",
            "grid_template_areas": null,
            "object_position": null,
            "object_fit": null,
            "grid_auto_columns": null,
            "margin": null,
            "display": null,
            "left": null
          }
        },
        "b0554f66f4d440f590f4fe527965d806": {
          "model_module": "@jupyter-widgets/controls",
          "model_name": "HTMLModel",
          "model_module_version": "1.5.0",
          "state": {
            "_view_name": "HTMLView",
            "style": "IPY_MODEL_23ad139a1b164c0aa36c3dd4652de73b",
            "_dom_classes": [],
            "description": "",
            "_model_name": "HTMLModel",
            "placeholder": "​",
            "_view_module": "@jupyter-widgets/controls",
            "_model_module_version": "1.5.0",
            "value": "Downloading: 100%",
            "_view_count": null,
            "_view_module_version": "1.5.0",
            "description_tooltip": null,
            "_model_module": "@jupyter-widgets/controls",
            "layout": "IPY_MODEL_69dcbfef8a214a4bb8a775095993ee36"
          }
        },
        "326c67083d7c4ad9bace8c329796ccc5": {
          "model_module": "@jupyter-widgets/controls",
          "model_name": "FloatProgressModel",
          "model_module_version": "1.5.0",
          "state": {
            "_view_name": "ProgressView",
            "style": "IPY_MODEL_a0c9febaddd04e829d83559056719cbb",
            "_dom_classes": [],
            "description": "",
            "_model_name": "FloatProgressModel",
            "bar_style": "success",
            "max": 570,
            "_view_module": "@jupyter-widgets/controls",
            "_model_module_version": "1.5.0",
            "value": 570,
            "_view_count": null,
            "_view_module_version": "1.5.0",
            "orientation": "horizontal",
            "min": 0,
            "description_tooltip": null,
            "_model_module": "@jupyter-widgets/controls",
            "layout": "IPY_MODEL_5e38b14242cc4121a578792c99bcfe06"
          }
        },
        "05a722a0c46b450c8667f519784d93c2": {
          "model_module": "@jupyter-widgets/controls",
          "model_name": "HTMLModel",
          "model_module_version": "1.5.0",
          "state": {
            "_view_name": "HTMLView",
            "style": "IPY_MODEL_07681782e1164a8db0c04fb995fa8307",
            "_dom_classes": [],
            "description": "",
            "_model_name": "HTMLModel",
            "placeholder": "​",
            "_view_module": "@jupyter-widgets/controls",
            "_model_module_version": "1.5.0",
            "value": " 570/570 [00:00&lt;00:00, 19.0kB/s]",
            "_view_count": null,
            "_view_module_version": "1.5.0",
            "description_tooltip": null,
            "_model_module": "@jupyter-widgets/controls",
            "layout": "IPY_MODEL_4bc13e55b01c4dba817e11b78a0bdeba"
          }
        },
        "23ad139a1b164c0aa36c3dd4652de73b": {
          "model_module": "@jupyter-widgets/controls",
          "model_name": "DescriptionStyleModel",
          "model_module_version": "1.5.0",
          "state": {
            "_view_name": "StyleView",
            "_model_name": "DescriptionStyleModel",
            "description_width": "",
            "_view_module": "@jupyter-widgets/base",
            "_model_module_version": "1.5.0",
            "_view_count": null,
            "_view_module_version": "1.2.0",
            "_model_module": "@jupyter-widgets/controls"
          }
        },
        "69dcbfef8a214a4bb8a775095993ee36": {
          "model_module": "@jupyter-widgets/base",
          "model_name": "LayoutModel",
          "model_module_version": "1.2.0",
          "state": {
            "_view_name": "LayoutView",
            "grid_template_rows": null,
            "right": null,
            "justify_content": null,
            "_view_module": "@jupyter-widgets/base",
            "overflow": null,
            "_model_module_version": "1.2.0",
            "_view_count": null,
            "flex_flow": null,
            "width": null,
            "min_width": null,
            "border": null,
            "align_items": null,
            "bottom": null,
            "_model_module": "@jupyter-widgets/base",
            "top": null,
            "grid_column": null,
            "overflow_y": null,
            "overflow_x": null,
            "grid_auto_flow": null,
            "grid_area": null,
            "grid_template_columns": null,
            "flex": null,
            "_model_name": "LayoutModel",
            "justify_items": null,
            "grid_row": null,
            "max_height": null,
            "align_content": null,
            "visibility": null,
            "align_self": null,
            "height": null,
            "min_height": null,
            "padding": null,
            "grid_auto_rows": null,
            "grid_gap": null,
            "max_width": null,
            "order": null,
            "_view_module_version": "1.2.0",
            "grid_template_areas": null,
            "object_position": null,
            "object_fit": null,
            "grid_auto_columns": null,
            "margin": null,
            "display": null,
            "left": null
          }
        },
        "a0c9febaddd04e829d83559056719cbb": {
          "model_module": "@jupyter-widgets/controls",
          "model_name": "ProgressStyleModel",
          "model_module_version": "1.5.0",
          "state": {
            "_view_name": "StyleView",
            "_model_name": "ProgressStyleModel",
            "description_width": "",
            "_view_module": "@jupyter-widgets/base",
            "_model_module_version": "1.5.0",
            "_view_count": null,
            "_view_module_version": "1.2.0",
            "bar_color": null,
            "_model_module": "@jupyter-widgets/controls"
          }
        },
        "5e38b14242cc4121a578792c99bcfe06": {
          "model_module": "@jupyter-widgets/base",
          "model_name": "LayoutModel",
          "model_module_version": "1.2.0",
          "state": {
            "_view_name": "LayoutView",
            "grid_template_rows": null,
            "right": null,
            "justify_content": null,
            "_view_module": "@jupyter-widgets/base",
            "overflow": null,
            "_model_module_version": "1.2.0",
            "_view_count": null,
            "flex_flow": null,
            "width": null,
            "min_width": null,
            "border": null,
            "align_items": null,
            "bottom": null,
            "_model_module": "@jupyter-widgets/base",
            "top": null,
            "grid_column": null,
            "overflow_y": null,
            "overflow_x": null,
            "grid_auto_flow": null,
            "grid_area": null,
            "grid_template_columns": null,
            "flex": null,
            "_model_name": "LayoutModel",
            "justify_items": null,
            "grid_row": null,
            "max_height": null,
            "align_content": null,
            "visibility": null,
            "align_self": null,
            "height": null,
            "min_height": null,
            "padding": null,
            "grid_auto_rows": null,
            "grid_gap": null,
            "max_width": null,
            "order": null,
            "_view_module_version": "1.2.0",
            "grid_template_areas": null,
            "object_position": null,
            "object_fit": null,
            "grid_auto_columns": null,
            "margin": null,
            "display": null,
            "left": null
          }
        },
        "07681782e1164a8db0c04fb995fa8307": {
          "model_module": "@jupyter-widgets/controls",
          "model_name": "DescriptionStyleModel",
          "model_module_version": "1.5.0",
          "state": {
            "_view_name": "StyleView",
            "_model_name": "DescriptionStyleModel",
            "description_width": "",
            "_view_module": "@jupyter-widgets/base",
            "_model_module_version": "1.5.0",
            "_view_count": null,
            "_view_module_version": "1.2.0",
            "_model_module": "@jupyter-widgets/controls"
          }
        },
        "4bc13e55b01c4dba817e11b78a0bdeba": {
          "model_module": "@jupyter-widgets/base",
          "model_name": "LayoutModel",
          "model_module_version": "1.2.0",
          "state": {
            "_view_name": "LayoutView",
            "grid_template_rows": null,
            "right": null,
            "justify_content": null,
            "_view_module": "@jupyter-widgets/base",
            "overflow": null,
            "_model_module_version": "1.2.0",
            "_view_count": null,
            "flex_flow": null,
            "width": null,
            "min_width": null,
            "border": null,
            "align_items": null,
            "bottom": null,
            "_model_module": "@jupyter-widgets/base",
            "top": null,
            "grid_column": null,
            "overflow_y": null,
            "overflow_x": null,
            "grid_auto_flow": null,
            "grid_area": null,
            "grid_template_columns": null,
            "flex": null,
            "_model_name": "LayoutModel",
            "justify_items": null,
            "grid_row": null,
            "max_height": null,
            "align_content": null,
            "visibility": null,
            "align_self": null,
            "height": null,
            "min_height": null,
            "padding": null,
            "grid_auto_rows": null,
            "grid_gap": null,
            "max_width": null,
            "order": null,
            "_view_module_version": "1.2.0",
            "grid_template_areas": null,
            "object_position": null,
            "object_fit": null,
            "grid_auto_columns": null,
            "margin": null,
            "display": null,
            "left": null
          }
        },
        "4b6d1921d1f744f5803f1a6abe16fbab": {
          "model_module": "@jupyter-widgets/controls",
          "model_name": "HBoxModel",
          "model_module_version": "1.5.0",
          "state": {
            "_view_name": "HBoxView",
            "_dom_classes": [],
            "_model_name": "HBoxModel",
            "_view_module": "@jupyter-widgets/controls",
            "_model_module_version": "1.5.0",
            "_view_count": null,
            "_view_module_version": "1.5.0",
            "box_style": "",
            "layout": "IPY_MODEL_0e9a9bbde3444f96ba0ea207538491e0",
            "_model_module": "@jupyter-widgets/controls",
            "children": [
              "IPY_MODEL_88e00afd7a5d4dc29c038bd3e6a92c87",
              "IPY_MODEL_a674d522d45d4a69944aa4d3062ecbfa",
              "IPY_MODEL_624cd23872fa41dda3e0cdf60705d763"
            ]
          }
        },
        "0e9a9bbde3444f96ba0ea207538491e0": {
          "model_module": "@jupyter-widgets/base",
          "model_name": "LayoutModel",
          "model_module_version": "1.2.0",
          "state": {
            "_view_name": "LayoutView",
            "grid_template_rows": null,
            "right": null,
            "justify_content": null,
            "_view_module": "@jupyter-widgets/base",
            "overflow": null,
            "_model_module_version": "1.2.0",
            "_view_count": null,
            "flex_flow": null,
            "width": null,
            "min_width": null,
            "border": null,
            "align_items": null,
            "bottom": null,
            "_model_module": "@jupyter-widgets/base",
            "top": null,
            "grid_column": null,
            "overflow_y": null,
            "overflow_x": null,
            "grid_auto_flow": null,
            "grid_area": null,
            "grid_template_columns": null,
            "flex": null,
            "_model_name": "LayoutModel",
            "justify_items": null,
            "grid_row": null,
            "max_height": null,
            "align_content": null,
            "visibility": null,
            "align_self": null,
            "height": null,
            "min_height": null,
            "padding": null,
            "grid_auto_rows": null,
            "grid_gap": null,
            "max_width": null,
            "order": null,
            "_view_module_version": "1.2.0",
            "grid_template_areas": null,
            "object_position": null,
            "object_fit": null,
            "grid_auto_columns": null,
            "margin": null,
            "display": null,
            "left": null
          }
        },
        "88e00afd7a5d4dc29c038bd3e6a92c87": {
          "model_module": "@jupyter-widgets/controls",
          "model_name": "HTMLModel",
          "model_module_version": "1.5.0",
          "state": {
            "_view_name": "HTMLView",
            "style": "IPY_MODEL_09a488fda97e43b8a939f0428740794e",
            "_dom_classes": [],
            "description": "",
            "_model_name": "HTMLModel",
            "placeholder": "​",
            "_view_module": "@jupyter-widgets/controls",
            "_model_module_version": "1.5.0",
            "value": "100%",
            "_view_count": null,
            "_view_module_version": "1.5.0",
            "description_tooltip": null,
            "_model_module": "@jupyter-widgets/controls",
            "layout": "IPY_MODEL_6da579916fc94a20b04a0863c99a66d4"
          }
        },
        "a674d522d45d4a69944aa4d3062ecbfa": {
          "model_module": "@jupyter-widgets/controls",
          "model_name": "FloatProgressModel",
          "model_module_version": "1.5.0",
          "state": {
            "_view_name": "ProgressView",
            "style": "IPY_MODEL_71db6c77befa48d0ad7ab6fc0f73f785",
            "_dom_classes": [],
            "description": "",
            "_model_name": "FloatProgressModel",
            "bar_style": "success",
            "max": 10724,
            "_view_module": "@jupyter-widgets/controls",
            "_model_module_version": "1.5.0",
            "value": 10724,
            "_view_count": null,
            "_view_module_version": "1.5.0",
            "orientation": "horizontal",
            "min": 0,
            "description_tooltip": null,
            "_model_module": "@jupyter-widgets/controls",
            "layout": "IPY_MODEL_bc607ae858104edf95d059ac25ea405e"
          }
        },
        "624cd23872fa41dda3e0cdf60705d763": {
          "model_module": "@jupyter-widgets/controls",
          "model_name": "HTMLModel",
          "model_module_version": "1.5.0",
          "state": {
            "_view_name": "HTMLView",
            "style": "IPY_MODEL_9d93e8d9604f4156bd15d5432fbf5ae8",
            "_dom_classes": [],
            "description": "",
            "_model_name": "HTMLModel",
            "placeholder": "​",
            "_view_module": "@jupyter-widgets/controls",
            "_model_module_version": "1.5.0",
            "value": " 10724/10724 [01:41&lt;00:00, 106.31it/s]",
            "_view_count": null,
            "_view_module_version": "1.5.0",
            "description_tooltip": null,
            "_model_module": "@jupyter-widgets/controls",
            "layout": "IPY_MODEL_09abaf6e08124b4eb3dca6ea8b2ed470"
          }
        },
        "09a488fda97e43b8a939f0428740794e": {
          "model_module": "@jupyter-widgets/controls",
          "model_name": "DescriptionStyleModel",
          "model_module_version": "1.5.0",
          "state": {
            "_view_name": "StyleView",
            "_model_name": "DescriptionStyleModel",
            "description_width": "",
            "_view_module": "@jupyter-widgets/base",
            "_model_module_version": "1.5.0",
            "_view_count": null,
            "_view_module_version": "1.2.0",
            "_model_module": "@jupyter-widgets/controls"
          }
        },
        "6da579916fc94a20b04a0863c99a66d4": {
          "model_module": "@jupyter-widgets/base",
          "model_name": "LayoutModel",
          "model_module_version": "1.2.0",
          "state": {
            "_view_name": "LayoutView",
            "grid_template_rows": null,
            "right": null,
            "justify_content": null,
            "_view_module": "@jupyter-widgets/base",
            "overflow": null,
            "_model_module_version": "1.2.0",
            "_view_count": null,
            "flex_flow": null,
            "width": null,
            "min_width": null,
            "border": null,
            "align_items": null,
            "bottom": null,
            "_model_module": "@jupyter-widgets/base",
            "top": null,
            "grid_column": null,
            "overflow_y": null,
            "overflow_x": null,
            "grid_auto_flow": null,
            "grid_area": null,
            "grid_template_columns": null,
            "flex": null,
            "_model_name": "LayoutModel",
            "justify_items": null,
            "grid_row": null,
            "max_height": null,
            "align_content": null,
            "visibility": null,
            "align_self": null,
            "height": null,
            "min_height": null,
            "padding": null,
            "grid_auto_rows": null,
            "grid_gap": null,
            "max_width": null,
            "order": null,
            "_view_module_version": "1.2.0",
            "grid_template_areas": null,
            "object_position": null,
            "object_fit": null,
            "grid_auto_columns": null,
            "margin": null,
            "display": null,
            "left": null
          }
        },
        "71db6c77befa48d0ad7ab6fc0f73f785": {
          "model_module": "@jupyter-widgets/controls",
          "model_name": "ProgressStyleModel",
          "model_module_version": "1.5.0",
          "state": {
            "_view_name": "StyleView",
            "_model_name": "ProgressStyleModel",
            "description_width": "",
            "_view_module": "@jupyter-widgets/base",
            "_model_module_version": "1.5.0",
            "_view_count": null,
            "_view_module_version": "1.2.0",
            "bar_color": null,
            "_model_module": "@jupyter-widgets/controls"
          }
        },
        "bc607ae858104edf95d059ac25ea405e": {
          "model_module": "@jupyter-widgets/base",
          "model_name": "LayoutModel",
          "model_module_version": "1.2.0",
          "state": {
            "_view_name": "LayoutView",
            "grid_template_rows": null,
            "right": null,
            "justify_content": null,
            "_view_module": "@jupyter-widgets/base",
            "overflow": null,
            "_model_module_version": "1.2.0",
            "_view_count": null,
            "flex_flow": null,
            "width": null,
            "min_width": null,
            "border": null,
            "align_items": null,
            "bottom": null,
            "_model_module": "@jupyter-widgets/base",
            "top": null,
            "grid_column": null,
            "overflow_y": null,
            "overflow_x": null,
            "grid_auto_flow": null,
            "grid_area": null,
            "grid_template_columns": null,
            "flex": null,
            "_model_name": "LayoutModel",
            "justify_items": null,
            "grid_row": null,
            "max_height": null,
            "align_content": null,
            "visibility": null,
            "align_self": null,
            "height": null,
            "min_height": null,
            "padding": null,
            "grid_auto_rows": null,
            "grid_gap": null,
            "max_width": null,
            "order": null,
            "_view_module_version": "1.2.0",
            "grid_template_areas": null,
            "object_position": null,
            "object_fit": null,
            "grid_auto_columns": null,
            "margin": null,
            "display": null,
            "left": null
          }
        },
        "9d93e8d9604f4156bd15d5432fbf5ae8": {
          "model_module": "@jupyter-widgets/controls",
          "model_name": "DescriptionStyleModel",
          "model_module_version": "1.5.0",
          "state": {
            "_view_name": "StyleView",
            "_model_name": "DescriptionStyleModel",
            "description_width": "",
            "_view_module": "@jupyter-widgets/base",
            "_model_module_version": "1.5.0",
            "_view_count": null,
            "_view_module_version": "1.2.0",
            "_model_module": "@jupyter-widgets/controls"
          }
        },
        "09abaf6e08124b4eb3dca6ea8b2ed470": {
          "model_module": "@jupyter-widgets/base",
          "model_name": "LayoutModel",
          "model_module_version": "1.2.0",
          "state": {
            "_view_name": "LayoutView",
            "grid_template_rows": null,
            "right": null,
            "justify_content": null,
            "_view_module": "@jupyter-widgets/base",
            "overflow": null,
            "_model_module_version": "1.2.0",
            "_view_count": null,
            "flex_flow": null,
            "width": null,
            "min_width": null,
            "border": null,
            "align_items": null,
            "bottom": null,
            "_model_module": "@jupyter-widgets/base",
            "top": null,
            "grid_column": null,
            "overflow_y": null,
            "overflow_x": null,
            "grid_auto_flow": null,
            "grid_area": null,
            "grid_template_columns": null,
            "flex": null,
            "_model_name": "LayoutModel",
            "justify_items": null,
            "grid_row": null,
            "max_height": null,
            "align_content": null,
            "visibility": null,
            "align_self": null,
            "height": null,
            "min_height": null,
            "padding": null,
            "grid_auto_rows": null,
            "grid_gap": null,
            "max_width": null,
            "order": null,
            "_view_module_version": "1.2.0",
            "grid_template_areas": null,
            "object_position": null,
            "object_fit": null,
            "grid_auto_columns": null,
            "margin": null,
            "display": null,
            "left": null
          }
        },
        "0a7c6c0717384e62b929c84b3d33d291": {
          "model_module": "@jupyter-widgets/controls",
          "model_name": "HBoxModel",
          "model_module_version": "1.5.0",
          "state": {
            "_view_name": "HBoxView",
            "_dom_classes": [],
            "_model_name": "HBoxModel",
            "_view_module": "@jupyter-widgets/controls",
            "_model_module_version": "1.5.0",
            "_view_count": null,
            "_view_module_version": "1.5.0",
            "box_style": "",
            "layout": "IPY_MODEL_fe9cc76e2c784f74960a73b1c311e2c5",
            "_model_module": "@jupyter-widgets/controls",
            "children": [
              "IPY_MODEL_3e45cd9a5c1541c797fb3e4d5b814a5b",
              "IPY_MODEL_b0701f717cd141638b6fc37791b9c708",
              "IPY_MODEL_30beded9cbff4d648c21c426dd5e5cf6"
            ]
          }
        },
        "fe9cc76e2c784f74960a73b1c311e2c5": {
          "model_module": "@jupyter-widgets/base",
          "model_name": "LayoutModel",
          "model_module_version": "1.2.0",
          "state": {
            "_view_name": "LayoutView",
            "grid_template_rows": null,
            "right": null,
            "justify_content": null,
            "_view_module": "@jupyter-widgets/base",
            "overflow": null,
            "_model_module_version": "1.2.0",
            "_view_count": null,
            "flex_flow": null,
            "width": null,
            "min_width": null,
            "border": null,
            "align_items": null,
            "bottom": null,
            "_model_module": "@jupyter-widgets/base",
            "top": null,
            "grid_column": null,
            "overflow_y": null,
            "overflow_x": null,
            "grid_auto_flow": null,
            "grid_area": null,
            "grid_template_columns": null,
            "flex": null,
            "_model_name": "LayoutModel",
            "justify_items": null,
            "grid_row": null,
            "max_height": null,
            "align_content": null,
            "visibility": null,
            "align_self": null,
            "height": null,
            "min_height": null,
            "padding": null,
            "grid_auto_rows": null,
            "grid_gap": null,
            "max_width": null,
            "order": null,
            "_view_module_version": "1.2.0",
            "grid_template_areas": null,
            "object_position": null,
            "object_fit": null,
            "grid_auto_columns": null,
            "margin": null,
            "display": null,
            "left": null
          }
        },
        "3e45cd9a5c1541c797fb3e4d5b814a5b": {
          "model_module": "@jupyter-widgets/controls",
          "model_name": "HTMLModel",
          "model_module_version": "1.5.0",
          "state": {
            "_view_name": "HTMLView",
            "style": "IPY_MODEL_8a6e1fbc163949f29b0c4c374c9c7e79",
            "_dom_classes": [],
            "description": "",
            "_model_name": "HTMLModel",
            "placeholder": "​",
            "_view_module": "@jupyter-widgets/controls",
            "_model_module_version": "1.5.0",
            "value": "100%",
            "_view_count": null,
            "_view_module_version": "1.5.0",
            "description_tooltip": null,
            "_model_module": "@jupyter-widgets/controls",
            "layout": "IPY_MODEL_8875884ac8bd4c5a943c3d8525bff889"
          }
        },
        "b0701f717cd141638b6fc37791b9c708": {
          "model_module": "@jupyter-widgets/controls",
          "model_name": "FloatProgressModel",
          "model_module_version": "1.5.0",
          "state": {
            "_view_name": "ProgressView",
            "style": "IPY_MODEL_a196c04449d344be95b38a532052b46d",
            "_dom_classes": [],
            "description": "",
            "_model_name": "FloatProgressModel",
            "bar_style": "success",
            "max": 2382,
            "_view_module": "@jupyter-widgets/controls",
            "_model_module_version": "1.5.0",
            "value": 2382,
            "_view_count": null,
            "_view_module_version": "1.5.0",
            "orientation": "horizontal",
            "min": 0,
            "description_tooltip": null,
            "_model_module": "@jupyter-widgets/controls",
            "layout": "IPY_MODEL_a7b83e3dd2374d57a04b1fac92399577"
          }
        },
        "30beded9cbff4d648c21c426dd5e5cf6": {
          "model_module": "@jupyter-widgets/controls",
          "model_name": "HTMLModel",
          "model_module_version": "1.5.0",
          "state": {
            "_view_name": "HTMLView",
            "style": "IPY_MODEL_6854ac467809423185b51de6198f4212",
            "_dom_classes": [],
            "description": "",
            "_model_name": "HTMLModel",
            "placeholder": "​",
            "_view_module": "@jupyter-widgets/controls",
            "_model_module_version": "1.5.0",
            "value": " 2382/2382 [00:22&lt;00:00, 107.37it/s]",
            "_view_count": null,
            "_view_module_version": "1.5.0",
            "description_tooltip": null,
            "_model_module": "@jupyter-widgets/controls",
            "layout": "IPY_MODEL_8918c81036744632bebd7491fd15d3ca"
          }
        },
        "8a6e1fbc163949f29b0c4c374c9c7e79": {
          "model_module": "@jupyter-widgets/controls",
          "model_name": "DescriptionStyleModel",
          "model_module_version": "1.5.0",
          "state": {
            "_view_name": "StyleView",
            "_model_name": "DescriptionStyleModel",
            "description_width": "",
            "_view_module": "@jupyter-widgets/base",
            "_model_module_version": "1.5.0",
            "_view_count": null,
            "_view_module_version": "1.2.0",
            "_model_module": "@jupyter-widgets/controls"
          }
        },
        "8875884ac8bd4c5a943c3d8525bff889": {
          "model_module": "@jupyter-widgets/base",
          "model_name": "LayoutModel",
          "model_module_version": "1.2.0",
          "state": {
            "_view_name": "LayoutView",
            "grid_template_rows": null,
            "right": null,
            "justify_content": null,
            "_view_module": "@jupyter-widgets/base",
            "overflow": null,
            "_model_module_version": "1.2.0",
            "_view_count": null,
            "flex_flow": null,
            "width": null,
            "min_width": null,
            "border": null,
            "align_items": null,
            "bottom": null,
            "_model_module": "@jupyter-widgets/base",
            "top": null,
            "grid_column": null,
            "overflow_y": null,
            "overflow_x": null,
            "grid_auto_flow": null,
            "grid_area": null,
            "grid_template_columns": null,
            "flex": null,
            "_model_name": "LayoutModel",
            "justify_items": null,
            "grid_row": null,
            "max_height": null,
            "align_content": null,
            "visibility": null,
            "align_self": null,
            "height": null,
            "min_height": null,
            "padding": null,
            "grid_auto_rows": null,
            "grid_gap": null,
            "max_width": null,
            "order": null,
            "_view_module_version": "1.2.0",
            "grid_template_areas": null,
            "object_position": null,
            "object_fit": null,
            "grid_auto_columns": null,
            "margin": null,
            "display": null,
            "left": null
          }
        },
        "a196c04449d344be95b38a532052b46d": {
          "model_module": "@jupyter-widgets/controls",
          "model_name": "ProgressStyleModel",
          "model_module_version": "1.5.0",
          "state": {
            "_view_name": "StyleView",
            "_model_name": "ProgressStyleModel",
            "description_width": "",
            "_view_module": "@jupyter-widgets/base",
            "_model_module_version": "1.5.0",
            "_view_count": null,
            "_view_module_version": "1.2.0",
            "bar_color": null,
            "_model_module": "@jupyter-widgets/controls"
          }
        },
        "a7b83e3dd2374d57a04b1fac92399577": {
          "model_module": "@jupyter-widgets/base",
          "model_name": "LayoutModel",
          "model_module_version": "1.2.0",
          "state": {
            "_view_name": "LayoutView",
            "grid_template_rows": null,
            "right": null,
            "justify_content": null,
            "_view_module": "@jupyter-widgets/base",
            "overflow": null,
            "_model_module_version": "1.2.0",
            "_view_count": null,
            "flex_flow": null,
            "width": null,
            "min_width": null,
            "border": null,
            "align_items": null,
            "bottom": null,
            "_model_module": "@jupyter-widgets/base",
            "top": null,
            "grid_column": null,
            "overflow_y": null,
            "overflow_x": null,
            "grid_auto_flow": null,
            "grid_area": null,
            "grid_template_columns": null,
            "flex": null,
            "_model_name": "LayoutModel",
            "justify_items": null,
            "grid_row": null,
            "max_height": null,
            "align_content": null,
            "visibility": null,
            "align_self": null,
            "height": null,
            "min_height": null,
            "padding": null,
            "grid_auto_rows": null,
            "grid_gap": null,
            "max_width": null,
            "order": null,
            "_view_module_version": "1.2.0",
            "grid_template_areas": null,
            "object_position": null,
            "object_fit": null,
            "grid_auto_columns": null,
            "margin": null,
            "display": null,
            "left": null
          }
        },
        "6854ac467809423185b51de6198f4212": {
          "model_module": "@jupyter-widgets/controls",
          "model_name": "DescriptionStyleModel",
          "model_module_version": "1.5.0",
          "state": {
            "_view_name": "StyleView",
            "_model_name": "DescriptionStyleModel",
            "description_width": "",
            "_view_module": "@jupyter-widgets/base",
            "_model_module_version": "1.5.0",
            "_view_count": null,
            "_view_module_version": "1.2.0",
            "_model_module": "@jupyter-widgets/controls"
          }
        },
        "8918c81036744632bebd7491fd15d3ca": {
          "model_module": "@jupyter-widgets/base",
          "model_name": "LayoutModel",
          "model_module_version": "1.2.0",
          "state": {
            "_view_name": "LayoutView",
            "grid_template_rows": null,
            "right": null,
            "justify_content": null,
            "_view_module": "@jupyter-widgets/base",
            "overflow": null,
            "_model_module_version": "1.2.0",
            "_view_count": null,
            "flex_flow": null,
            "width": null,
            "min_width": null,
            "border": null,
            "align_items": null,
            "bottom": null,
            "_model_module": "@jupyter-widgets/base",
            "top": null,
            "grid_column": null,
            "overflow_y": null,
            "overflow_x": null,
            "grid_auto_flow": null,
            "grid_area": null,
            "grid_template_columns": null,
            "flex": null,
            "_model_name": "LayoutModel",
            "justify_items": null,
            "grid_row": null,
            "max_height": null,
            "align_content": null,
            "visibility": null,
            "align_self": null,
            "height": null,
            "min_height": null,
            "padding": null,
            "grid_auto_rows": null,
            "grid_gap": null,
            "max_width": null,
            "order": null,
            "_view_module_version": "1.2.0",
            "grid_template_areas": null,
            "object_position": null,
            "object_fit": null,
            "grid_auto_columns": null,
            "margin": null,
            "display": null,
            "left": null
          }
        }
      }
    }
  },
  "cells": [
    {
      "cell_type": "code",
      "metadata": {
        "id": "0OYet5qi1c_0"
      },
      "source": [
        "import numpy as np\n",
        "import pandas as pd\n",
        "\n",
        "import torch\n",
        "import torch.nn as nn\n",
        "from torch.optim import Adam\n",
        "from torch.utils.data import Dataset, DataLoader\n",
        "\n",
        "import tqdm\n",
        "import math\n",
        "import json\n",
        "\n",
        "import itertools\n",
        "\n",
        "import datetime\n",
        "\n",
        "from matplotlib import pyplot as plt\n",
        "\n",
        "from sklearn.metrics import hamming_loss, jaccard_score\n",
        "from sklearn.preprocessing import MultiLabelBinarizer"
      ],
      "execution_count": 352,
      "outputs": []
    },
    {
      "cell_type": "code",
      "metadata": {
        "id": "VqUjh53j5fcu"
      },
      "source": [
        "#!pip install transformers"
      ],
      "execution_count": null,
      "outputs": []
    },
    {
      "cell_type": "code",
      "metadata": {
        "id": "TYDt6pBT3kuc"
      },
      "source": [
        "from transformers import BertTokenizer, BertModel"
      ],
      "execution_count": 4,
      "outputs": []
    },
    {
      "cell_type": "markdown",
      "metadata": {
        "id": "He8aTXYoFE0a"
      },
      "source": [
        "# Data"
      ]
    },
    {
      "cell_type": "code",
      "metadata": {
        "id": "AZEJyFSi1fE9"
      },
      "source": [
        "train_data = json.load(open('/content/drive/MyDrive/Colab Notebooks/mtg_train_data.json'))\n",
        "test_data = json.load(open('/content/drive/MyDrive/Colab Notebooks/mtg_test_data.json'))"
      ],
      "execution_count": 5,
      "outputs": []
    },
    {
      "cell_type": "code",
      "metadata": {
        "id": "LiRg5Ora3UX6",
        "colab": {
          "base_uri": "https://localhost:8080/",
          "height": 145,
          "referenced_widgets": [
            "a8b308fb4a67404d803968165f7722ee",
            "a2a02ac4e1624e8c8e5f597eeddcf826",
            "90caf5b11a0d4ea7b00e02056d05d543",
            "70607769421c4d76838984c1088f4b51",
            "eb519736f14a4b2a80151f78b29afef0",
            "7d52427d8fc54974a5615a834970e059",
            "eae126dac5104d4e975b62d847a08ed3",
            "ce6561ddca6a4422bc88dadd49ed9c26",
            "b7c6be64cd2d4281bc4d035a963f88c2",
            "4cbcc4fcfecc4bb78b9e75eeb6218302",
            "3961f13b740d4179a76299e0d5ca5a3b",
            "216c7e1fcf634237851e8a246941abfe",
            "3811a9c0f560490abb2d11b0d36ff716",
            "475f6ede55034c7daad4299c4ecf1d72",
            "78a019aafde441b99434d1ac6d25fa69",
            "43ac7c1aa6b64f62b6522a8ff203f660",
            "990694715cb346fea6d1e6a8bd30da9a",
            "d5d77cfd14c14545b091e8c0268bf9ba",
            "1f46ef8ebfa7478d81057be3cd6db8ea",
            "171bbcc63f1b49b3bf806925b9669ab9",
            "c369468e049b433a828b979640632895",
            "40b58de9cd5c4eb6986848e5309bc7fb",
            "c6313da97a074ca1a09ea878da5e5366",
            "6f1c689318174faead16b16c856ada95",
            "8eca9021afdc4c8bb10af85ecd50ec40",
            "fb85f6d024624876974db5af25daa225",
            "8895f2bbbecb43d3b0ca1c8beaef2976",
            "24a070935366415c8a8bd16a34d3fe7e",
            "46cd47d3fe224b7b88e118b311d2f5a7",
            "f9762d58e5be41c1bdefb60ce8e6ba38",
            "0f28863a724b4fc3843adab01f4add5e",
            "f405fe3741a14cbfad5ec934fc565338",
            "ac7f0f712c5345d1bc96b001d60f2510",
            "62992cd527874a4ea35bd87501c80948",
            "603e1573898e452fbb6baf9917ef05f0",
            "b0554f66f4d440f590f4fe527965d806",
            "326c67083d7c4ad9bace8c329796ccc5",
            "05a722a0c46b450c8667f519784d93c2",
            "23ad139a1b164c0aa36c3dd4652de73b",
            "69dcbfef8a214a4bb8a775095993ee36",
            "a0c9febaddd04e829d83559056719cbb",
            "5e38b14242cc4121a578792c99bcfe06",
            "07681782e1164a8db0c04fb995fa8307",
            "4bc13e55b01c4dba817e11b78a0bdeba"
          ]
        },
        "outputId": "aede1608-d22d-450d-c4b9-b5f55df82c29"
      },
      "source": [
        "tokenizer = BertTokenizer.from_pretrained('bert-base-uncased', do_lower_case=True)"
      ],
      "execution_count": 6,
      "outputs": [
        {
          "output_type": "display_data",
          "data": {
            "application/vnd.jupyter.widget-view+json": {
              "model_id": "a8b308fb4a67404d803968165f7722ee",
              "version_minor": 0,
              "version_major": 2
            },
            "text/plain": [
              "Downloading:   0%|          | 0.00/226k [00:00<?, ?B/s]"
            ]
          },
          "metadata": {}
        },
        {
          "output_type": "display_data",
          "data": {
            "application/vnd.jupyter.widget-view+json": {
              "model_id": "216c7e1fcf634237851e8a246941abfe",
              "version_minor": 0,
              "version_major": 2
            },
            "text/plain": [
              "Downloading:   0%|          | 0.00/28.0 [00:00<?, ?B/s]"
            ]
          },
          "metadata": {}
        },
        {
          "output_type": "display_data",
          "data": {
            "application/vnd.jupyter.widget-view+json": {
              "model_id": "c6313da97a074ca1a09ea878da5e5366",
              "version_minor": 0,
              "version_major": 2
            },
            "text/plain": [
              "Downloading:   0%|          | 0.00/455k [00:00<?, ?B/s]"
            ]
          },
          "metadata": {}
        },
        {
          "output_type": "display_data",
          "data": {
            "application/vnd.jupyter.widget-view+json": {
              "model_id": "62992cd527874a4ea35bd87501c80948",
              "version_minor": 0,
              "version_major": 2
            },
            "text/plain": [
              "Downloading:   0%|          | 0.00/570 [00:00<?, ?B/s]"
            ]
          },
          "metadata": {}
        }
      ]
    },
    {
      "cell_type": "code",
      "metadata": {
        "colab": {
          "base_uri": "https://localhost:8080/"
        },
        "id": "3wn7J7FQ4Jla",
        "outputId": "5cfe3981-81a1-4b0c-a80f-ab2e1b3c3b6b"
      },
      "source": [
        "print(train_data[0].keys())"
      ],
      "execution_count": 7,
      "outputs": [
        {
          "output_type": "stream",
          "name": "stdout",
          "text": [
            "dict_keys(['colors', 'convertedManaCost', 'name', 'subtypes', 'supertypes', 'text', 'type', 'types', 'power', 'toughness'])\n"
          ]
        }
      ]
    },
    {
      "cell_type": "code",
      "metadata": {
        "colab": {
          "base_uri": "https://localhost:8080/"
        },
        "id": "1QDR7hI-5dll",
        "outputId": "8665de49-03af-422d-c075-6c904e23e8d3"
      },
      "source": [
        "max_length = 0\n",
        "longest_text = ''\n",
        "longest_encoding = None\n",
        "for card_data in train_data + test_data:\n",
        "  encoding = tokenizer.encode(card_data['text'])\n",
        "  length = len(encoding)\n",
        "  if length > max_length:\n",
        "    max_length = length\n",
        "    longest_text = card_data['text']\n",
        "    longest_encoding = encoding\n",
        "print('Max length:', max_length)\n",
        "print('Text:', longest_text)\n",
        "print('Encoding:', longest_encoding)"
      ],
      "execution_count": 8,
      "outputs": [
        {
          "output_type": "stream",
          "name": "stdout",
          "text": [
            "Max length: 146\n",
            "Text: CARDNAME's power and toughness are each equal to your life total minus the life total of an opponent with the most life.\n",
            "Suspend X—{X}{B}{B}{B}. X can't be 0. (Rather than cast this card from your hand, you may pay {X}{B}{B}{B} and exile it with X time counters on it. At the beginning of your upkeep, remove a time counter. When the last is removed, cast it without paying its mana cost. It has haste.)\n",
            "Whenever a time counter is removed from CARDNAME while it's exiled, target player loses 1 life and you gain 1 life.\n",
            "Encoding: [101, 4003, 18442, 1005, 1055, 2373, 1998, 7823, 2791, 2024, 2169, 5020, 2000, 2115, 2166, 2561, 15718, 1996, 2166, 2561, 1997, 2019, 7116, 2007, 1996, 2087, 2166, 1012, 28324, 1060, 1517, 1063, 1060, 1065, 1063, 1038, 1065, 1063, 1038, 1065, 1063, 1038, 1065, 1012, 1060, 2064, 1005, 1056, 2022, 1014, 1012, 1006, 2738, 2084, 3459, 2023, 4003, 2013, 2115, 2192, 1010, 2017, 2089, 3477, 1063, 1060, 1065, 1063, 1038, 1065, 1063, 1038, 1065, 1063, 1038, 1065, 1998, 8340, 2009, 2007, 1060, 2051, 24094, 2006, 2009, 1012, 2012, 1996, 2927, 1997, 2115, 2039, 20553, 2361, 1010, 6366, 1037, 2051, 4675, 1012, 2043, 1996, 2197, 2003, 3718, 1010, 3459, 2009, 2302, 7079, 2049, 24951, 3465, 1012, 2009, 2038, 24748, 1012, 1007, 7188, 1037, 2051, 4675, 2003, 3718, 2013, 4003, 18442, 2096, 2009, 1005, 1055, 14146, 1010, 4539, 2447, 12386, 1015, 2166, 1998, 2017, 5114, 1015, 2166, 1012, 102]\n"
          ]
        }
      ]
    },
    {
      "cell_type": "code",
      "metadata": {
        "id": "OjmsWtjAAatA"
      },
      "source": [
        "def one_hot_encode(mapping, values):\n",
        "  encoding = torch.zeros(len(mapping))\n",
        "  for value in values:\n",
        "    if value in mapping.keys():\n",
        "      encoding[mapping[value]] = 1.0\n",
        "  return encoding\n",
        "\n",
        "def create_mapping(values):\n",
        "  return {val: i for i, val in enumerate(sorted(values))}"
      ],
      "execution_count": 9,
      "outputs": []
    },
    {
      "cell_type": "code",
      "metadata": {
        "colab": {
          "base_uri": "https://localhost:8080/"
        },
        "id": "60LSzMj3DhGr",
        "outputId": "91a692e1-3fea-430a-d272-256a979780ad"
      },
      "source": [
        "example_mapping = create_mapping(['Goblin', 'Elf', 'Warrior', 'Soldier', 'Rogue'])\n",
        "example_one_hot_encoding = one_hot_encode(example_mapping, ['Goblin', 'Rogue', 'Fighter'])\n",
        "print(example_mapping, example_one_hot_encoding)"
      ],
      "execution_count": 10,
      "outputs": [
        {
          "output_type": "stream",
          "name": "stdout",
          "text": [
            "{'Elf': 0, 'Goblin': 1, 'Rogue': 2, 'Soldier': 3, 'Warrior': 4} tensor([0., 1., 1., 0., 0.])\n"
          ]
        }
      ]
    },
    {
      "cell_type": "code",
      "metadata": {
        "id": "sljUroO3EHup"
      },
      "source": [
        "all_types = set()\n",
        "all_subtypes = {}\n",
        "all_supertypes = set()\n",
        "\n",
        "for card_data in train_data:\n",
        "  all_types.update(card_data['types'])\n",
        "  all_supertypes.update(card_data['supertypes'])\n",
        "\n",
        "  for subtype in card_data['subtypes']:\n",
        "    if subtype not in all_subtypes.keys():\n",
        "      all_subtypes[subtype] = 1\n",
        "    else:\n",
        "      all_subtypes[subtype] += 1"
      ],
      "execution_count": 231,
      "outputs": []
    },
    {
      "cell_type": "code",
      "metadata": {
        "colab": {
          "base_uri": "https://localhost:8080/"
        },
        "id": "h4lcmG7QEVTb",
        "outputId": "93472c2d-235e-4000-ae60-dc0527c7b66f"
      },
      "source": [
        "print('Total types:', len(all_types))\n",
        "print('Total subtypes:', len(all_subtypes))\n",
        "print('Total supertypes:', len(all_supertypes))\n",
        "\n",
        "print('Types:', all_types)\n",
        "print('Supertypes:', all_supertypes)\n",
        "\n",
        "all_subtypes_min_10 = [subtype[0] for subtype in all_subtypes.items() if subtype[1] >= 10]\n",
        "print('Subtypes (min 10 count):', all_subtypes_min_10)\n",
        "print('Total subtypes (min 10 count):', len(all_subtypes_min_10))"
      ],
      "execution_count": 232,
      "outputs": [
        {
          "output_type": "stream",
          "name": "stdout",
          "text": [
            "Total types: 7\n",
            "Total subtypes: 265\n",
            "Total supertypes: 2\n",
            "Types: {'Artifact', 'Tribal', 'Sorcery', 'Enchantment', 'Planeswalker', 'Creature', 'Instant'}\n",
            "Supertypes: {'Snow', 'Legendary'}\n",
            "Subtypes (min 10 count): ['Zombie', 'Griffin', 'Human', 'Monk', 'Demon', 'Thrull', 'Cleric', 'Cat', 'Aura', 'Eldrazi', 'Horror', 'Specter', 'Soldier', 'Warrior', 'Bird', 'Drake', 'Wizard', 'Knight', 'Construct', 'Equipment', 'Spirit', 'Spider', 'Dragon', 'Ooze', 'Vampire', 'Lizard', 'Beast', 'Angel', 'Illusion', 'Goblin', 'Pirate', 'Elf', 'Shaman', 'Avatar', 'Dwarf', 'Hound', 'Archer', 'Homunculus', 'Mutant', 'Artificer', 'Wall', 'Vedalken', 'Rogue', 'Aetherborn', 'Shapeshifter', 'Elemental', 'Vehicle', 'Leviathan', 'Ally', 'Advisor', 'Minotaur', 'Scout', 'Kor', 'Berserker', 'Giant', 'Phoenix', 'Horse', 'Faerie', 'Crocodile', 'Sphinx', 'Myr', 'Bear', 'Golem', 'Treefolk', 'Orc', 'Snake', 'Dinosaur', 'Fish', 'Crab', 'Incarnation', 'Scarecrow', 'Hydra', 'Kithkin', 'Merfolk', 'Samurai', 'Insect', 'Naga', 'Boar', 'Gorgon', 'Druid', 'Trap', 'Kraken', 'Wolf', 'Nightmare', 'God', 'Arcane', 'Wurm', 'Elephant', 'Rebel', 'Elk', 'Noble', 'Troll', 'Ogre', 'Skeleton', 'Bat', 'Sliver', 'Jackal', 'Devil', 'Drone', 'Assassin', 'Imp', 'Hellion', 'Plant', 'Cyclops', 'Viashino', 'Dryad', 'Satyr', 'Rat', 'Centaur', 'Chandra', 'Rhino', 'Shade', 'Elder', 'Spellshaper', 'Chimera', 'Fungus', 'Frog', 'Curse', 'Serpent', 'Gargoyle', 'Fox', 'Djinn', 'Ninja', 'Moonfolk']\n",
            "Total subtypes (min 10 count): 124\n"
          ]
        }
      ]
    },
    {
      "cell_type": "code",
      "metadata": {
        "colab": {
          "base_uri": "https://localhost:8080/"
        },
        "id": "JjhL6531F0eC",
        "outputId": "62df14d2-2c7d-4c09-f8da-849a39a21d22"
      },
      "source": [
        "type_mapping = create_mapping(all_types)\n",
        "subtype_mapping = create_mapping(all_subtypes_min_10)\n",
        "supertype_mapping = create_mapping(all_supertypes)\n",
        "print(type_mapping, supertype_mapping)"
      ],
      "execution_count": 13,
      "outputs": [
        {
          "output_type": "stream",
          "name": "stdout",
          "text": [
            "{'Artifact': 0, 'Creature': 1, 'Enchantment': 2, 'Instant': 3, 'Planeswalker': 4, 'Sorcery': 5, 'Tribal': 6} {'Legendary': 0, 'Snow': 1}\n"
          ]
        }
      ]
    },
    {
      "cell_type": "code",
      "metadata": {
        "id": "T5spbCkX-OFB"
      },
      "source": [
        "class MTGDataset(Dataset):\n",
        "\n",
        "  def __init__(self, raw_card_data, include_raw_data=False):\n",
        "    self.raw_card_data = raw_card_data\n",
        "\n",
        "    self.X_text = None\n",
        "    self.X_data = None\n",
        "    self.Y      = None\n",
        "    self.masks  = None\n",
        "    \n",
        "    self.__parse_cards()\n",
        "    self.include_raw_data = include_raw_data\n",
        "  \n",
        "  def __parse_cards(self):\n",
        "    for card in self.raw_card_data:\n",
        "      # Include card['name'] potentially for LSTM later\n",
        "      power_toughness_cost = [card['convertedManaCost'], card['power'], card['toughness']]  # indices 0, 1, 2\n",
        "      type_encoded = one_hot_encode(type_mapping, card['types'])                            # indices 3-9\n",
        "      supertype_encoded = one_hot_encode(supertype_mapping, card['supertypes'])             # indices 10, 11\n",
        "      subtype_encoded = one_hot_encode(subtype_mapping, card['subtypes'])                   # indices 12-135\n",
        "\n",
        "      cf = lambda c: 1.0 if c in card['colors'] else 0.0 # color function\n",
        "      color_encoded = [cf('W'), cf('U'), cf('B'), cf('R'), cf('G')]\n",
        "\n",
        "      text_encoded = tokenizer.encode_plus(\n",
        "          card_data['text'],\n",
        "          add_special_tokens = True,\n",
        "          max_length=146,  \n",
        "          padding='max_length',\n",
        "          return_attention_mask = True,\n",
        "          return_tensors = 'pt'\n",
        "      )\n",
        "\n",
        "      text_tensor     = text_encoded['input_ids'] # dim (1, 146)\n",
        "      attention_mask  = text_encoded['attention_mask']\n",
        "\n",
        "      power_toughness_cost_encoded = torch.tensor(power_toughness_cost)\n",
        "\n",
        "      data_tensor  = torch.hstack([power_toughness_cost_encoded, type_encoded, supertype_encoded, subtype_encoded]).unsqueeze(0) # dim (1, 136)\n",
        "      color_tensor = torch.tensor(color_encoded).unsqueeze(0) # dim (1, 5)\n",
        "      \n",
        "      if self.X_text is None:\n",
        "        self.X_text = text_tensor\n",
        "        self.X_data = data_tensor\n",
        "        self.Y      = color_tensor\n",
        "        self.masks  = attention_mask\n",
        "      else:\n",
        "        self.X_text = torch.cat([self.X_text, text_tensor])                                                             \n",
        "        self.X_data = torch.cat([self.X_data, data_tensor])\n",
        "        self.Y      = torch.cat([self.Y, color_tensor])     \n",
        "        self.masks  = torch.cat([self.masks, attention_mask])                                                             \n",
        "\n",
        "  def __len__(self):\n",
        "    return len(self.raw_card_data)\n",
        "\n",
        "  def __getitem__(self, idx):\n",
        "    \"\"\"\n",
        "    Returns: X_text, X_data, attention_mask, Y (corresponding to the embedded text input, the rest of the card data and the color)\n",
        "    \"\"\"\n",
        "    if self.include_raw_data:\n",
        "      return self.X_text[idx], self.X_data[idx], self.masks[idx], self.Y[idx], self.raw_card_data[idx]\n",
        "    return self.X_text[idx], self.X_data[idx], self.masks[idx], self.Y[idx]"
      ],
      "execution_count": 14,
      "outputs": []
    },
    {
      "cell_type": "code",
      "metadata": {
        "id": "wBrx22HA5fNa"
      },
      "source": [
        "train_dataset = MTGDataset(train_data)\n",
        "test_dataset  = MTGDataset(test_data)"
      ],
      "execution_count": 13,
      "outputs": []
    },
    {
      "cell_type": "markdown",
      "metadata": {
        "id": "w7vmjszx7gE_"
      },
      "source": [
        "# Model"
      ]
    },
    {
      "cell_type": "code",
      "metadata": {
        "colab": {
          "base_uri": "https://localhost:8080/"
        },
        "id": "d6_GC1mGDGWz",
        "outputId": "64bfa2cd-0087-430c-982a-7b43c6655e0a"
      },
      "source": [
        "print(f'GPU available: {torch.cuda.is_available()}')\n",
        "device = torch.device(\"cuda:0\" if torch.cuda.is_available() else \"cpu\")"
      ],
      "execution_count": 15,
      "outputs": [
        {
          "output_type": "stream",
          "name": "stdout",
          "text": [
            "GPU available: True\n"
          ]
        }
      ]
    },
    {
      "cell_type": "code",
      "metadata": {
        "id": "dTxOTe4F8uPS"
      },
      "source": [
        "# Hyperparameters\n",
        "BATCH_SIZE = 64\n",
        "\n",
        "DIM_TRANSFORMER_OUT = 768\n",
        "DIM_DATA = 136\n",
        "DIM_OUTPUT= 5\n",
        "\n",
        "DIM_HIDDEN = 128\n",
        "\n",
        "LEARNING_RATE = 1e-5\n",
        "TRANSFORMER_LEARNING_RATE = 1e-6\n",
        "\n",
        "EPOCHS = 75\n",
        "\n",
        "GRAD_CLIP = 3.0"
      ],
      "execution_count": 16,
      "outputs": []
    },
    {
      "cell_type": "code",
      "metadata": {
        "id": "WreBL4-g7iOY"
      },
      "source": [
        "class MagicColorClassifier(nn.Module):\n",
        "  def __init__(self, dropout=0.0):\n",
        "    super(MagicColorClassifier, self).__init__()\n",
        "\n",
        "    self.transformer_model = BertModel.from_pretrained('bert-base-uncased')\n",
        "\n",
        "    self.classifier = nn.Sequential(\n",
        "        nn.Dropout(dropout),\n",
        "        nn.Linear(DIM_DATA + DIM_TRANSFORMER_OUT, DIM_HIDDEN),\n",
        "        nn.ReLU(),\n",
        "        nn.Linear(DIM_HIDDEN, DIM_OUTPUT),\n",
        "        nn.Sigmoid()\n",
        "    )\n",
        "\n",
        "  def forward(self, X_text, X_data, attention_masks):\n",
        "    transformer_out = self.transformer_model(X_text, attention_mask=attention_masks)['pooler_output']\n",
        "\n",
        "    classifier_input = torch.cat([X_data, transformer_out], dim=1)\n",
        "    output      = self.classifier(classifier_input)\n",
        "\n",
        "    return output"
      ],
      "execution_count": 17,
      "outputs": []
    },
    {
      "cell_type": "code",
      "metadata": {
        "colab": {
          "base_uri": "https://localhost:8080/"
        },
        "id": "D1xviPHc9jYK",
        "outputId": "63993ef3-d682-44eb-b820-b5f5decf1ebb"
      },
      "source": [
        "model = MagicColorClassifier().to(device)"
      ],
      "execution_count": 17,
      "outputs": [
        {
          "output_type": "stream",
          "name": "stderr",
          "text": [
            "Some weights of the model checkpoint at bert-base-uncased were not used when initializing BertModel: ['cls.predictions.transform.LayerNorm.weight', 'cls.predictions.transform.dense.weight', 'cls.predictions.bias', 'cls.predictions.decoder.weight', 'cls.seq_relationship.weight', 'cls.predictions.transform.dense.bias', 'cls.predictions.transform.LayerNorm.bias', 'cls.seq_relationship.bias']\n",
            "- This IS expected if you are initializing BertModel from the checkpoint of a model trained on another task or with another architecture (e.g. initializing a BertForSequenceClassification model from a BertForPreTraining model).\n",
            "- This IS NOT expected if you are initializing BertModel from the checkpoint of a model that you expect to be exactly identical (initializing a BertForSequenceClassification model from a BertForSequenceClassification model).\n"
          ]
        }
      ]
    },
    {
      "cell_type": "code",
      "metadata": {
        "id": "VDPQbjHr8tHo"
      },
      "source": [
        "train_data_loader = DataLoader(train_dataset, batch_size=BATCH_SIZE, shuffle=True)\n",
        "test_data_loader  = DataLoader(test_dataset, batch_size=BATCH_SIZE)"
      ],
      "execution_count": 18,
      "outputs": []
    },
    {
      "cell_type": "code",
      "metadata": {
        "id": "lzMeLtoGQ7W-"
      },
      "source": [
        "loss_func = torch.nn.CrossEntropyLoss(reduction='sum')"
      ],
      "execution_count": 25,
      "outputs": []
    },
    {
      "cell_type": "code",
      "metadata": {
        "id": "VPFY5WCrSVSv"
      },
      "source": [
        "optimizer = Adam([\n",
        "    {\"params\": model.transformer_model.parameters(), \"lr\": TRANSFORMER_LEARNING_RATE},\n",
        "    {\"params\": model.classifier.parameters()}\n",
        "], lr=LEARNING_RATE)"
      ],
      "execution_count": 27,
      "outputs": []
    },
    {
      "cell_type": "code",
      "metadata": {
        "id": "-whApVO_yy5r"
      },
      "source": [
        "performance_curves = {'loss_train': [], 'acc_train': [], 'loss_test': [], 'acc_test': []}"
      ],
      "execution_count": 21,
      "outputs": []
    },
    {
      "cell_type": "code",
      "metadata": {
        "id": "Ho8MEJVdzVXO"
      },
      "source": [
        "def save_model_and_curves():\n",
        "  now = datetime.datetime.now()\n",
        "  dt_string = now.strftime(\"%d_%m_%y-%H:%M\")\n",
        "  print(\"Saving model and curves\", dt_string)\n",
        "  torch.save(model.state_dict(), f'/content/drive/MyDrive/Colab Notebooks/mtg_color_classifier_{dt_string}.model')\n",
        "  with open(f'/content/drive/MyDrive/Colab Notebooks/mtg_performance_curves_{dt_string}.json', 'w') as outfile:\n",
        "    json.dump(performance_curves, outfile)"
      ],
      "execution_count": 22,
      "outputs": []
    },
    {
      "cell_type": "code",
      "metadata": {
        "id": "nPeqoeDy50N1"
      },
      "source": [
        "for epoch in range(EPOCHS):\n",
        "  total_loss_train = 0.0\n",
        "  total_loss_test  = 0.0\n",
        "  total_acc_train  = 0.0\n",
        "  total_acc_test   = 0.0\n",
        "  \n",
        "  for train_batch_text, train_batch_data, attention_masks, train_batch_label in tqdm.notebook.tqdm(train_data_loader): \n",
        "    train_batch_label = train_batch_label.to(device)\n",
        "    output = model(train_batch_text.to(device), train_batch_data.to(device), attention_masks.to(device))\n",
        "\n",
        "    loss = loss_func(output, train_batch_label)\n",
        "    loss /= output.shape[0]\n",
        "    total_loss_train += loss.item()\n",
        "    \n",
        "\n",
        "    acc = torch.all(torch.eq(torch.round(output), train_batch_label), dim=1)\n",
        "    acc = acc.sum().item()\n",
        "    total_acc_train += acc\n",
        "\n",
        "    model.zero_grad()\n",
        "    loss.backward()\n",
        "    nn.utils.clip_grad_norm_(model.parameters(), GRAD_CLIP)\n",
        "    optimizer.step()\n",
        "\n",
        "  with torch.no_grad():\n",
        "    for test_batch_text, test_batch_data, attention_masks, test_batch_label in tqdm.notebook.tqdm(test_data_loader):\n",
        "      test_batch_label = test_batch_label.to(device)\n",
        "      output = model(test_batch_text.to(device), test_batch_data.to(device), attention_masks.to(device))\n",
        "      loss = loss_func(output, test_batch_label)\n",
        "      total_loss_test += loss.item()\n",
        "\n",
        "      acc = torch.all(torch.eq(torch.round(output), test_batch_label), dim=1)\n",
        "      acc = acc.sum().item()\n",
        "      total_acc_test += acc\n",
        "\n",
        "  total_loss_train /= len(train_dataset)\n",
        "  total_acc_train /= len(train_dataset)\n",
        "  total_loss_test /= len(test_dataset)\n",
        "  total_acc_test /= len(test_dataset)\n",
        "\n",
        "  print(\n",
        "      f'Epochs: {epoch + 1} | Train Loss: {total_loss_train : .4f} \\\n",
        "      | Train Accuracy: {total_acc_train : .4f} \\\n",
        "      | Val Loss: {total_loss_test : .4f} \\\n",
        "      | Val Accuracy: {total_acc_test : .4f}')\n",
        "  \n",
        "  performance_curves['loss_train'] += [total_loss_train]\n",
        "  performance_curves['acc_train']  += [total_acc_train]\n",
        "  performance_curves['loss_test']  += [total_loss_test]\n",
        "  performance_curves['acc_test']   += [total_acc_test]\n",
        "\n",
        "  if epoch > 0 and epoch % 25 == 0 and epoch != EPOCHS:\n",
        "    save_model_and_curves()\n",
        "save_model_and_curves()"
      ],
      "execution_count": null,
      "outputs": []
    },
    {
      "cell_type": "code",
      "metadata": {
        "id": "83CuSAl5PsVl"
      },
      "source": [
        "Best_so_far = \"02_12_21-16:43\" # 30, 31 train/test acc"
      ],
      "execution_count": null,
      "outputs": []
    },
    {
      "cell_type": "code",
      "metadata": {
        "id": "RQJbsxgX6ozw"
      },
      "source": [
        "final_train_dataset = MTGDataset(train_data, include_raw_data=True)\n",
        "final_test_dataset = MTGDataset(test_data, include_raw_data=True)\n",
        "\n",
        "final_train_data_loader = DataLoader(final_train_dataset, batch_size=1)\n",
        "final_test_data_loader = DataLoader(final_test_dataset, batch_size=1)"
      ],
      "execution_count": 63,
      "outputs": []
    },
    {
      "cell_type": "markdown",
      "metadata": {
        "id": "sFERsP0TE8xS"
      },
      "source": [
        "# Results Compilation"
      ]
    },
    {
      "cell_type": "code",
      "metadata": {
        "colab": {
          "base_uri": "https://localhost:8080/"
        },
        "id": "8X4-pZAy51ZV",
        "outputId": "228cd78c-9efd-48a4-b528-6f11f5598ea0"
      },
      "source": [
        "model = MagicColorClassifier()\n",
        "model.load_state_dict(torch.load('/content/drive/MyDrive/Colab Notebooks/mtg_color_classifier_02_12_21-16:43.model'))"
      ],
      "execution_count": 191,
      "outputs": [
        {
          "output_type": "stream",
          "name": "stderr",
          "text": [
            "Some weights of the model checkpoint at bert-base-uncased were not used when initializing BertModel: ['cls.seq_relationship.bias', 'cls.seq_relationship.weight', 'cls.predictions.transform.LayerNorm.bias', 'cls.predictions.transform.dense.bias', 'cls.predictions.transform.LayerNorm.weight', 'cls.predictions.transform.dense.weight', 'cls.predictions.decoder.weight', 'cls.predictions.bias']\n",
            "- This IS expected if you are initializing BertModel from the checkpoint of a model trained on another task or with another architecture (e.g. initializing a BertForSequenceClassification model from a BertForPreTraining model).\n",
            "- This IS NOT expected if you are initializing BertModel from the checkpoint of a model that you expect to be exactly identical (initializing a BertForSequenceClassification model from a BertForSequenceClassification model).\n"
          ]
        },
        {
          "output_type": "execute_result",
          "data": {
            "text/plain": [
              "<All keys matched successfully>"
            ]
          },
          "metadata": {},
          "execution_count": 191
        }
      ]
    },
    {
      "cell_type": "code",
      "metadata": {
        "id": "XbBscQsC7W8i"
      },
      "source": [
        "model = model.eval().to(device)"
      ],
      "execution_count": 192,
      "outputs": []
    },
    {
      "cell_type": "code",
      "metadata": {
        "id": "j_fUyLaTJLFz"
      },
      "source": [
        "def color_sort(colors):\n",
        "  if len(colors) < 2:\n",
        "    return colors\n",
        "  return sorted(colors, key=lambda c: ['W', 'U', 'B', 'R', 'G'].index(c))"
      ],
      "execution_count": 193,
      "outputs": []
    },
    {
      "cell_type": "code",
      "metadata": {
        "id": "1gAvCSt0744B"
      },
      "source": [
        "def output_to_list(output): # output is a tensor(5)\n",
        "  output = torch.round(output)\n",
        "  output = output.squeeze(0).tolist()\n",
        "  output = [bool(o) for o in output]\n",
        "  col_list = []\n",
        "  for i, c in enumerate(['W', 'U', 'B', 'R', 'G']):\n",
        "    if output[i]:\n",
        "      col_list += [c]\n",
        "  return col_list"
      ],
      "execution_count": 194,
      "outputs": []
    },
    {
      "cell_type": "code",
      "metadata": {
        "id": "urSEFC376dOD"
      },
      "source": [
        "def final_output(data_loader, model):\n",
        "  final_output_list = []\n",
        "\n",
        "  total_acc = 0\n",
        "\n",
        "  with torch.no_grad():\n",
        "      for test_batch_text, test_batch_data, attention_masks, test_batch_label, raw_data in tqdm.notebook.tqdm(data_loader):\n",
        "        test_batch_label = test_batch_label.to(device)\n",
        "        output = model(test_batch_text.to(device), test_batch_data.to(device), attention_masks.to(device))\n",
        "        #loss = loss_func(output, test_batch_label)\n",
        "        #total_loss_test += loss.item()\n",
        "        predicted_colors = output_to_list(output)\n",
        "\n",
        "        acc = torch.all(torch.eq(torch.round(output).squeeze(0), test_batch_label)).item()\n",
        "        correct = bool(acc)\n",
        "\n",
        "        final_output_list += [{\n",
        "          'correct': correct,\n",
        "          'colors': color_sort([col[0] for col in raw_data['colors']]),\n",
        "          'predicted_colors': color_sort(predicted_colors),\n",
        "          'name': raw_data['name'][0],\n",
        "          'convertedManaCost': raw_data['convertedManaCost'][0].item(),\n",
        "          'power': raw_data['power'][0].item(),\n",
        "          'toughness': raw_data['toughness'][0].item(),\n",
        "          'type': raw_data['type'][0],\n",
        "          'text': raw_data['text'][0],\n",
        "          'types': [t[0] for t in raw_data['types']],\n",
        "          'supertypes': [t[0] for t in raw_data['supertypes']],\n",
        "          'subtypes': [t[0] for t in raw_data['subtypes']]\n",
        "        }]\n",
        "        total_acc += acc\n",
        "  results_df = pd.DataFrame(final_output_list)\n",
        "  results_df.set_index('name')\n",
        "\n",
        "  return total_acc / len(data_loader), results_df"
      ],
      "execution_count": 242,
      "outputs": []
    },
    {
      "cell_type": "code",
      "metadata": {
        "colab": {
          "base_uri": "https://localhost:8080/",
          "height": 81,
          "referenced_widgets": [
            "4b6d1921d1f744f5803f1a6abe16fbab",
            "0e9a9bbde3444f96ba0ea207538491e0",
            "88e00afd7a5d4dc29c038bd3e6a92c87",
            "a674d522d45d4a69944aa4d3062ecbfa",
            "624cd23872fa41dda3e0cdf60705d763",
            "09a488fda97e43b8a939f0428740794e",
            "6da579916fc94a20b04a0863c99a66d4",
            "71db6c77befa48d0ad7ab6fc0f73f785",
            "bc607ae858104edf95d059ac25ea405e",
            "9d93e8d9604f4156bd15d5432fbf5ae8",
            "09abaf6e08124b4eb3dca6ea8b2ed470",
            "0a7c6c0717384e62b929c84b3d33d291",
            "fe9cc76e2c784f74960a73b1c311e2c5",
            "3e45cd9a5c1541c797fb3e4d5b814a5b",
            "b0701f717cd141638b6fc37791b9c708",
            "30beded9cbff4d648c21c426dd5e5cf6",
            "8a6e1fbc163949f29b0c4c374c9c7e79",
            "8875884ac8bd4c5a943c3d8525bff889",
            "a196c04449d344be95b38a532052b46d",
            "a7b83e3dd2374d57a04b1fac92399577",
            "6854ac467809423185b51de6198f4212",
            "8918c81036744632bebd7491fd15d3ca"
          ]
        },
        "id": "YerD-tEGC7dG",
        "outputId": "740cfb6c-8404-4fd9-ba69-cbc49e90f7e9"
      },
      "source": [
        "total_acc_train, train_results_df = final_output(final_train_data_loader, model)\n",
        "total_acc_test, test_results_df   = final_output(final_test_data_loader, model)"
      ],
      "execution_count": 243,
      "outputs": [
        {
          "output_type": "display_data",
          "data": {
            "application/vnd.jupyter.widget-view+json": {
              "model_id": "4b6d1921d1f744f5803f1a6abe16fbab",
              "version_minor": 0,
              "version_major": 2
            },
            "text/plain": [
              "  0%|          | 0/10724 [00:00<?, ?it/s]"
            ]
          },
          "metadata": {}
        },
        {
          "output_type": "display_data",
          "data": {
            "application/vnd.jupyter.widget-view+json": {
              "model_id": "0a7c6c0717384e62b929c84b3d33d291",
              "version_minor": 0,
              "version_major": 2
            },
            "text/plain": [
              "  0%|          | 0/2382 [00:00<?, ?it/s]"
            ]
          },
          "metadata": {}
        }
      ]
    },
    {
      "cell_type": "code",
      "metadata": {
        "colab": {
          "base_uri": "https://localhost:8080/"
        },
        "id": "f43JRi6S-sXW",
        "outputId": "7405c4b0-a192-4555-ac56-6ff3e16018f3"
      },
      "source": [
        "print(f'Total accuracy train: {total_acc_train: .4f}')\n",
        "print(f'Total accuracy test: {total_acc_test: .4f}')"
      ],
      "execution_count": 244,
      "outputs": [
        {
          "output_type": "stream",
          "name": "stdout",
          "text": [
            "Total accuracy train:  0.3237\n",
            "Total accuracy test:  0.3157\n"
          ]
        }
      ]
    },
    {
      "cell_type": "code",
      "metadata": {
        "colab": {
          "base_uri": "https://localhost:8080/",
          "height": 649
        },
        "id": "7GZiMwFfDSAC",
        "outputId": "977a7eb0-39be-4c78-dd00-37c7cb50ef01"
      },
      "source": [
        "train_results_df"
      ],
      "execution_count": 245,
      "outputs": [
        {
          "output_type": "execute_result",
          "data": {
            "text/html": [
              "<div>\n",
              "<style scoped>\n",
              "    .dataframe tbody tr th:only-of-type {\n",
              "        vertical-align: middle;\n",
              "    }\n",
              "\n",
              "    .dataframe tbody tr th {\n",
              "        vertical-align: top;\n",
              "    }\n",
              "\n",
              "    .dataframe thead th {\n",
              "        text-align: right;\n",
              "    }\n",
              "</style>\n",
              "<table border=\"1\" class=\"dataframe\">\n",
              "  <thead>\n",
              "    <tr style=\"text-align: right;\">\n",
              "      <th></th>\n",
              "      <th>correct</th>\n",
              "      <th>colors</th>\n",
              "      <th>predicted_colors</th>\n",
              "      <th>name</th>\n",
              "      <th>convertedManaCost</th>\n",
              "      <th>power</th>\n",
              "      <th>toughness</th>\n",
              "      <th>type</th>\n",
              "      <th>text</th>\n",
              "      <th>types</th>\n",
              "      <th>supertypes</th>\n",
              "      <th>subtypes</th>\n",
              "    </tr>\n",
              "  </thead>\n",
              "  <tbody>\n",
              "    <tr>\n",
              "      <th>0</th>\n",
              "      <td>False</td>\n",
              "      <td>[R]</td>\n",
              "      <td>[U]</td>\n",
              "      <td>Abandon Reason</td>\n",
              "      <td>3.0</td>\n",
              "      <td>0</td>\n",
              "      <td>0</td>\n",
              "      <td>Instant</td>\n",
              "      <td>Up to two target creatures each get +1/+0 and ...</td>\n",
              "      <td>[Instant]</td>\n",
              "      <td>[]</td>\n",
              "      <td>[]</td>\n",
              "    </tr>\n",
              "    <tr>\n",
              "      <th>1</th>\n",
              "      <td>False</td>\n",
              "      <td>[]</td>\n",
              "      <td>[U]</td>\n",
              "      <td>Abandoned Sarcophagus</td>\n",
              "      <td>3.0</td>\n",
              "      <td>0</td>\n",
              "      <td>0</td>\n",
              "      <td>Artifact</td>\n",
              "      <td>You may cast nonland cards with cycling from y...</td>\n",
              "      <td>[Artifact]</td>\n",
              "      <td>[]</td>\n",
              "      <td>[]</td>\n",
              "    </tr>\n",
              "    <tr>\n",
              "      <th>2</th>\n",
              "      <td>True</td>\n",
              "      <td>[B]</td>\n",
              "      <td>[B]</td>\n",
              "      <td>Abattoir Ghoul</td>\n",
              "      <td>4.0</td>\n",
              "      <td>3</td>\n",
              "      <td>2</td>\n",
              "      <td>Creature — Zombie</td>\n",
              "      <td>First strike\\nWhenever a creature dealt damage...</td>\n",
              "      <td>[Creature]</td>\n",
              "      <td>[]</td>\n",
              "      <td>[Zombie]</td>\n",
              "    </tr>\n",
              "    <tr>\n",
              "      <th>3</th>\n",
              "      <td>True</td>\n",
              "      <td>[W]</td>\n",
              "      <td>[W]</td>\n",
              "      <td>Abbey Griffin</td>\n",
              "      <td>4.0</td>\n",
              "      <td>2</td>\n",
              "      <td>2</td>\n",
              "      <td>Creature — Griffin</td>\n",
              "      <td>Flying, vigilance</td>\n",
              "      <td>[Creature]</td>\n",
              "      <td>[]</td>\n",
              "      <td>[Griffin]</td>\n",
              "    </tr>\n",
              "    <tr>\n",
              "      <th>4</th>\n",
              "      <td>False</td>\n",
              "      <td>[R]</td>\n",
              "      <td>[W]</td>\n",
              "      <td>Abbot of Keral Keep</td>\n",
              "      <td>2.0</td>\n",
              "      <td>2</td>\n",
              "      <td>1</td>\n",
              "      <td>Creature — Human Monk</td>\n",
              "      <td>Prowess (Whenever you cast a noncreature spell...</td>\n",
              "      <td>[Creature]</td>\n",
              "      <td>[]</td>\n",
              "      <td>[Human, Monk]</td>\n",
              "    </tr>\n",
              "    <tr>\n",
              "      <th>...</th>\n",
              "      <td>...</td>\n",
              "      <td>...</td>\n",
              "      <td>...</td>\n",
              "      <td>...</td>\n",
              "      <td>...</td>\n",
              "      <td>...</td>\n",
              "      <td>...</td>\n",
              "      <td>...</td>\n",
              "      <td>...</td>\n",
              "      <td>...</td>\n",
              "      <td>...</td>\n",
              "      <td>...</td>\n",
              "    </tr>\n",
              "    <tr>\n",
              "      <th>10719</th>\n",
              "      <td>False</td>\n",
              "      <td>[B]</td>\n",
              "      <td>[U, B]</td>\n",
              "      <td>Zulaport Cutthroat</td>\n",
              "      <td>2.0</td>\n",
              "      <td>1</td>\n",
              "      <td>1</td>\n",
              "      <td>Creature — Human Rogue Ally</td>\n",
              "      <td>Whenever CARDNAME or another creature you cont...</td>\n",
              "      <td>[Creature]</td>\n",
              "      <td>[]</td>\n",
              "      <td>[Human, Rogue, Ally]</td>\n",
              "    </tr>\n",
              "    <tr>\n",
              "      <th>10720</th>\n",
              "      <td>False</td>\n",
              "      <td>[W, U, B]</td>\n",
              "      <td>[W, U]</td>\n",
              "      <td>Zur the Enchanter</td>\n",
              "      <td>4.0</td>\n",
              "      <td>1</td>\n",
              "      <td>4</td>\n",
              "      <td>Legendary Creature — Human Wizard</td>\n",
              "      <td>Flying\\nWhenever CARDNAME attacks, you may sea...</td>\n",
              "      <td>[Creature]</td>\n",
              "      <td>[Legendary]</td>\n",
              "      <td>[Human, Wizard]</td>\n",
              "    </tr>\n",
              "    <tr>\n",
              "      <th>10721</th>\n",
              "      <td>False</td>\n",
              "      <td>[U]</td>\n",
              "      <td>[]</td>\n",
              "      <td>Zur's Weirding</td>\n",
              "      <td>4.0</td>\n",
              "      <td>0</td>\n",
              "      <td>0</td>\n",
              "      <td>Enchantment</td>\n",
              "      <td>Players play with their hands revealed.\\nIf a ...</td>\n",
              "      <td>[Enchantment]</td>\n",
              "      <td>[]</td>\n",
              "      <td>[]</td>\n",
              "    </tr>\n",
              "    <tr>\n",
              "      <th>10722</th>\n",
              "      <td>False</td>\n",
              "      <td>[R]</td>\n",
              "      <td>[B, R]</td>\n",
              "      <td>Zurgo Bellstriker</td>\n",
              "      <td>1.0</td>\n",
              "      <td>2</td>\n",
              "      <td>2</td>\n",
              "      <td>Legendary Creature — Orc Warrior</td>\n",
              "      <td>CARDNAME can't block creatures with power 2 or...</td>\n",
              "      <td>[Creature]</td>\n",
              "      <td>[Legendary]</td>\n",
              "      <td>[Orc, Warrior]</td>\n",
              "    </tr>\n",
              "    <tr>\n",
              "      <th>10723</th>\n",
              "      <td>False</td>\n",
              "      <td>[W, B, R]</td>\n",
              "      <td>[B, R]</td>\n",
              "      <td>Zurgo Helmsmasher</td>\n",
              "      <td>5.0</td>\n",
              "      <td>7</td>\n",
              "      <td>2</td>\n",
              "      <td>Legendary Creature — Orc Warrior</td>\n",
              "      <td>Haste\\nCARDNAME attacks each combat if able.\\n...</td>\n",
              "      <td>[Creature]</td>\n",
              "      <td>[Legendary]</td>\n",
              "      <td>[Orc, Warrior]</td>\n",
              "    </tr>\n",
              "  </tbody>\n",
              "</table>\n",
              "<p>10724 rows × 12 columns</p>\n",
              "</div>"
            ],
            "text/plain": [
              "       correct     colors  ...   supertypes              subtypes\n",
              "0        False        [R]  ...           []                    []\n",
              "1        False         []  ...           []                    []\n",
              "2         True        [B]  ...           []              [Zombie]\n",
              "3         True        [W]  ...           []             [Griffin]\n",
              "4        False        [R]  ...           []         [Human, Monk]\n",
              "...        ...        ...  ...          ...                   ...\n",
              "10719    False        [B]  ...           []  [Human, Rogue, Ally]\n",
              "10720    False  [W, U, B]  ...  [Legendary]       [Human, Wizard]\n",
              "10721    False        [U]  ...           []                    []\n",
              "10722    False        [R]  ...  [Legendary]        [Orc, Warrior]\n",
              "10723    False  [W, B, R]  ...  [Legendary]        [Orc, Warrior]\n",
              "\n",
              "[10724 rows x 12 columns]"
            ]
          },
          "metadata": {},
          "execution_count": 245
        }
      ]
    },
    {
      "cell_type": "code",
      "metadata": {
        "colab": {
          "base_uri": "https://localhost:8080/",
          "height": 597
        },
        "id": "mrUc0pATDTRh",
        "outputId": "07879e4b-3793-4e2c-8c55-4eb6cda9b779"
      },
      "source": [
        "test_results_df"
      ],
      "execution_count": 246,
      "outputs": [
        {
          "output_type": "execute_result",
          "data": {
            "text/html": [
              "<div>\n",
              "<style scoped>\n",
              "    .dataframe tbody tr th:only-of-type {\n",
              "        vertical-align: middle;\n",
              "    }\n",
              "\n",
              "    .dataframe tbody tr th {\n",
              "        vertical-align: top;\n",
              "    }\n",
              "\n",
              "    .dataframe thead th {\n",
              "        text-align: right;\n",
              "    }\n",
              "</style>\n",
              "<table border=\"1\" class=\"dataframe\">\n",
              "  <thead>\n",
              "    <tr style=\"text-align: right;\">\n",
              "      <th></th>\n",
              "      <th>correct</th>\n",
              "      <th>colors</th>\n",
              "      <th>predicted_colors</th>\n",
              "      <th>name</th>\n",
              "      <th>convertedManaCost</th>\n",
              "      <th>power</th>\n",
              "      <th>toughness</th>\n",
              "      <th>type</th>\n",
              "      <th>text</th>\n",
              "      <th>types</th>\n",
              "      <th>supertypes</th>\n",
              "      <th>subtypes</th>\n",
              "    </tr>\n",
              "  </thead>\n",
              "  <tbody>\n",
              "    <tr>\n",
              "      <th>0</th>\n",
              "      <td>False</td>\n",
              "      <td>[U, G]</td>\n",
              "      <td>[G]</td>\n",
              "      <td>Abominable Treefolk</td>\n",
              "      <td>4.0</td>\n",
              "      <td>0</td>\n",
              "      <td>0</td>\n",
              "      <td>Snow Creature — Treefolk</td>\n",
              "      <td>Trample\\nCARDNAME's power and toughness are ea...</td>\n",
              "      <td>[Creature]</td>\n",
              "      <td>[Snow]</td>\n",
              "      <td>[Treefolk]</td>\n",
              "    </tr>\n",
              "    <tr>\n",
              "      <th>1</th>\n",
              "      <td>False</td>\n",
              "      <td>[U, B, G]</td>\n",
              "      <td>[B]</td>\n",
              "      <td>Abomination of Gudul</td>\n",
              "      <td>6.0</td>\n",
              "      <td>3</td>\n",
              "      <td>4</td>\n",
              "      <td>Creature — Horror</td>\n",
              "      <td>Flying\\nWhenever CARDNAME deals combat damage ...</td>\n",
              "      <td>[Creature]</td>\n",
              "      <td>[]</td>\n",
              "      <td>[Horror]</td>\n",
              "    </tr>\n",
              "    <tr>\n",
              "      <th>2</th>\n",
              "      <td>False</td>\n",
              "      <td>[W]</td>\n",
              "      <td>[U]</td>\n",
              "      <td>Abzan Advantage</td>\n",
              "      <td>2.0</td>\n",
              "      <td>0</td>\n",
              "      <td>0</td>\n",
              "      <td>Instant</td>\n",
              "      <td>Target player sacrifices an enchantment. Bolst...</td>\n",
              "      <td>[Instant]</td>\n",
              "      <td>[]</td>\n",
              "      <td>[]</td>\n",
              "    </tr>\n",
              "    <tr>\n",
              "      <th>3</th>\n",
              "      <td>False</td>\n",
              "      <td>[W, B, G]</td>\n",
              "      <td>[W]</td>\n",
              "      <td>Abzan Ascendancy</td>\n",
              "      <td>3.0</td>\n",
              "      <td>0</td>\n",
              "      <td>0</td>\n",
              "      <td>Enchantment</td>\n",
              "      <td>When CARDNAME enters the battlefield, put a +1...</td>\n",
              "      <td>[Enchantment]</td>\n",
              "      <td>[]</td>\n",
              "      <td>[]</td>\n",
              "    </tr>\n",
              "    <tr>\n",
              "      <th>4</th>\n",
              "      <td>False</td>\n",
              "      <td>[G]</td>\n",
              "      <td>[R, G]</td>\n",
              "      <td>Abzan Beastmaster</td>\n",
              "      <td>3.0</td>\n",
              "      <td>2</td>\n",
              "      <td>1</td>\n",
              "      <td>Creature — Hound Shaman</td>\n",
              "      <td>At the beginning of your upkeep, draw a card i...</td>\n",
              "      <td>[Creature]</td>\n",
              "      <td>[]</td>\n",
              "      <td>[Hound, Shaman]</td>\n",
              "    </tr>\n",
              "    <tr>\n",
              "      <th>...</th>\n",
              "      <td>...</td>\n",
              "      <td>...</td>\n",
              "      <td>...</td>\n",
              "      <td>...</td>\n",
              "      <td>...</td>\n",
              "      <td>...</td>\n",
              "      <td>...</td>\n",
              "      <td>...</td>\n",
              "      <td>...</td>\n",
              "      <td>...</td>\n",
              "      <td>...</td>\n",
              "      <td>...</td>\n",
              "    </tr>\n",
              "    <tr>\n",
              "      <th>2377</th>\n",
              "      <td>False</td>\n",
              "      <td>[R, G]</td>\n",
              "      <td>[R]</td>\n",
              "      <td>Zhur-Taa Goblin</td>\n",
              "      <td>2.0</td>\n",
              "      <td>2</td>\n",
              "      <td>2</td>\n",
              "      <td>Creature — Goblin Berserker</td>\n",
              "      <td>Riot (This creature enters the battlefield wit...</td>\n",
              "      <td>[Creature]</td>\n",
              "      <td>[]</td>\n",
              "      <td>[Goblin, Berserker]</td>\n",
              "    </tr>\n",
              "    <tr>\n",
              "      <th>2378</th>\n",
              "      <td>False</td>\n",
              "      <td>[G]</td>\n",
              "      <td>[]</td>\n",
              "      <td>Zodiac Monkey</td>\n",
              "      <td>2.0</td>\n",
              "      <td>2</td>\n",
              "      <td>1</td>\n",
              "      <td>Creature — Monkey</td>\n",
              "      <td>Forestwalk (This creature can't be blocked as ...</td>\n",
              "      <td>[Creature]</td>\n",
              "      <td>[]</td>\n",
              "      <td>[Monkey]</td>\n",
              "    </tr>\n",
              "    <tr>\n",
              "      <th>2379</th>\n",
              "      <td>False</td>\n",
              "      <td>[B]</td>\n",
              "      <td>[B, R]</td>\n",
              "      <td>Zombie Goliath</td>\n",
              "      <td>5.0</td>\n",
              "      <td>4</td>\n",
              "      <td>3</td>\n",
              "      <td>Creature — Zombie Giant</td>\n",
              "      <td></td>\n",
              "      <td>[Creature]</td>\n",
              "      <td>[]</td>\n",
              "      <td>[Zombie, Giant]</td>\n",
              "    </tr>\n",
              "    <tr>\n",
              "      <th>2380</th>\n",
              "      <td>True</td>\n",
              "      <td>[B]</td>\n",
              "      <td>[B]</td>\n",
              "      <td>Zombie Musher</td>\n",
              "      <td>4.0</td>\n",
              "      <td>2</td>\n",
              "      <td>3</td>\n",
              "      <td>Snow Creature — Zombie</td>\n",
              "      <td>Snow landwalk (This creature can't be blocked ...</td>\n",
              "      <td>[Creature]</td>\n",
              "      <td>[Snow]</td>\n",
              "      <td>[Zombie]</td>\n",
              "    </tr>\n",
              "    <tr>\n",
              "      <th>2381</th>\n",
              "      <td>False</td>\n",
              "      <td>[U, B]</td>\n",
              "      <td>[B]</td>\n",
              "      <td>Zombie Outlander</td>\n",
              "      <td>2.0</td>\n",
              "      <td>2</td>\n",
              "      <td>2</td>\n",
              "      <td>Creature — Zombie Scout</td>\n",
              "      <td>Protection from green</td>\n",
              "      <td>[Creature]</td>\n",
              "      <td>[]</td>\n",
              "      <td>[Zombie, Scout]</td>\n",
              "    </tr>\n",
              "  </tbody>\n",
              "</table>\n",
              "<p>2382 rows × 12 columns</p>\n",
              "</div>"
            ],
            "text/plain": [
              "      correct     colors  ... supertypes             subtypes\n",
              "0       False     [U, G]  ...     [Snow]           [Treefolk]\n",
              "1       False  [U, B, G]  ...         []             [Horror]\n",
              "2       False        [W]  ...         []                   []\n",
              "3       False  [W, B, G]  ...         []                   []\n",
              "4       False        [G]  ...         []      [Hound, Shaman]\n",
              "...       ...        ...  ...        ...                  ...\n",
              "2377    False     [R, G]  ...         []  [Goblin, Berserker]\n",
              "2378    False        [G]  ...         []             [Monkey]\n",
              "2379    False        [B]  ...         []      [Zombie, Giant]\n",
              "2380     True        [B]  ...     [Snow]             [Zombie]\n",
              "2381    False     [U, B]  ...         []      [Zombie, Scout]\n",
              "\n",
              "[2382 rows x 12 columns]"
            ]
          },
          "metadata": {},
          "execution_count": 246
        }
      ]
    },
    {
      "cell_type": "code",
      "metadata": {
        "id": "Y_CmBspQEeB9"
      },
      "source": [
        "train_results_df.to_pickle('/content/drive/MyDrive/Colab Notebooks/train_results_df.pkl')\n",
        "test_results_df.to_pickle('/content/drive/MyDrive/Colab Notebooks/test_results_df.pkl')"
      ],
      "execution_count": 248,
      "outputs": []
    },
    {
      "cell_type": "markdown",
      "metadata": {
        "id": "VV9BNpRnFK0p"
      },
      "source": [
        "# Analysis"
      ]
    },
    {
      "cell_type": "code",
      "metadata": {
        "id": "w3tJ3bkwoBoQ"
      },
      "source": [
        "train_results_df = pd.read_pickle('/content/drive/MyDrive/Colab Notebooks/train_results_df.pkl')\n",
        "test_results_df = pd.read_pickle('/content/drive/MyDrive/Colab Notebooks/test_results_df.pkl')"
      ],
      "execution_count": 249,
      "outputs": []
    },
    {
      "cell_type": "code",
      "metadata": {
        "colab": {
          "base_uri": "https://localhost:8080/"
        },
        "id": "tvjo-nOwGwjA",
        "outputId": "6dffd58d-bb89-4454-b232-c311b0a5a0ec"
      },
      "source": [
        "color_pie = ['W', 'U', 'B', 'R', 'G']\n",
        "combinations = []\n",
        "for L in range(0, len(color_pie)+1):\n",
        "    for subset in itertools.combinations(color_pie, L):\n",
        "        combinations += [subset]\n",
        "print(combinations)"
      ],
      "execution_count": 250,
      "outputs": [
        {
          "output_type": "stream",
          "name": "stdout",
          "text": [
            "[(), ('W',), ('U',), ('B',), ('R',), ('G',), ('W', 'U'), ('W', 'B'), ('W', 'R'), ('W', 'G'), ('U', 'B'), ('U', 'R'), ('U', 'G'), ('B', 'R'), ('B', 'G'), ('R', 'G'), ('W', 'U', 'B'), ('W', 'U', 'R'), ('W', 'U', 'G'), ('W', 'B', 'R'), ('W', 'B', 'G'), ('W', 'R', 'G'), ('U', 'B', 'R'), ('U', 'B', 'G'), ('U', 'R', 'G'), ('B', 'R', 'G'), ('W', 'U', 'B', 'R'), ('W', 'U', 'B', 'G'), ('W', 'U', 'R', 'G'), ('W', 'B', 'R', 'G'), ('U', 'B', 'R', 'G'), ('W', 'U', 'B', 'R', 'G')]\n"
          ]
        }
      ]
    },
    {
      "cell_type": "code",
      "metadata": {
        "id": "XNFoUOGoHHI0"
      },
      "source": [
        "def gen_confusion_matrix(df, normalize=False):\n",
        "  confusion_matrix = np.zeros((len(combinations), len(combinations)))\n",
        "  for index, row in df.iterrows():\n",
        "    confusion_matrix[combinations.index(tuple(row.colors)), combinations.index(tuple(row.predicted_colors))] += 1 \n",
        "  if normalize:\n",
        "    confusion_matrix = (confusion_matrix.T / confusion_matrix.sum(axis=1)).T\n",
        "  return confusion_matrix"
      ],
      "execution_count": 251,
      "outputs": []
    },
    {
      "cell_type": "code",
      "metadata": {
        "colab": {
          "base_uri": "https://localhost:8080/"
        },
        "id": "qofjpPalP3vE",
        "outputId": "7f2da4c5-e318-4fb0-ade2-f02638b55ae0"
      },
      "source": [
        "train_conf_matrix = gen_confusion_matrix(train_results_df, normalize=True)\n",
        "test_conf_matrix = gen_confusion_matrix(test_results_df, normalize=True) # rows (y) is the true color, cols (x) is the predicted color"
      ],
      "execution_count": 252,
      "outputs": [
        {
          "output_type": "stream",
          "name": "stderr",
          "text": [
            "/usr/local/lib/python3.7/dist-packages/ipykernel_launcher.py:6: RuntimeWarning: invalid value encountered in true_divide\n",
            "  \n"
          ]
        }
      ]
    },
    {
      "cell_type": "code",
      "metadata": {
        "id": "x8l5iFhvVzC1"
      },
      "source": [
        "def col_text(color_tuple):\n",
        "  if len(color_tuple) == 0:\n",
        "    return 'C'\n",
        "  return ''.join(color_tuple)"
      ],
      "execution_count": 253,
      "outputs": []
    },
    {
      "cell_type": "code",
      "metadata": {
        "id": "HEmgNMNUUhhy"
      },
      "source": [
        "def show_conf_matrix(conf_matrix, labels, title):\n",
        "  fig, ax = plt.subplots(figsize=(14, 14))\n",
        "  ax.matshow(conf_matrix)\n",
        "\n",
        "  for (i, j), z in np.ndenumerate(conf_matrix):\n",
        "      ax.text(j, i, '{:0.2f}'.format(z), ha='center', va='center',\n",
        "              bbox=dict(boxstyle='round', facecolor='white', edgecolor='0.3'))\n",
        "  ax.set_xticks(range(len(labels)))\n",
        "  ax.set_xticklabels([col_text(c) for c in labels])\n",
        "  ax.set_yticks(range(len(labels)))\n",
        "  ax.set_yticklabels([col_text(c) for c in labels])\n",
        "\n",
        "  ax.set_xlabel('Predicted Label')\n",
        "  ax.set_ylabel('True Label')\n",
        "  ax.xaxis.set_label_position('top') \n",
        "\n",
        "  plt.title(title)\n",
        "\n",
        "  plt.show()"
      ],
      "execution_count": 254,
      "outputs": []
    },
    {
      "cell_type": "code",
      "metadata": {
        "colab": {
          "base_uri": "https://localhost:8080/",
          "height": 849
        },
        "id": "7cikqE8Wpp4t",
        "outputId": "63996f7a-4ff2-4654-d60a-8238d837f210"
      },
      "source": [
        "show_conf_matrix(train_conf_matrix[:16, :16], combinations[:16], 'Train Confusion Matrix')"
      ],
      "execution_count": 255,
      "outputs": [
        {
          "output_type": "display_data",
          "data": {
            "image/png": "[encoded data removed]",
            "text/plain": [
              "<Figure size 1008x1008 with 1 Axes>"
            ]
          },
          "metadata": {
            "needs_background": "light"
          }
        }
      ]
    },
    {
      "cell_type": "code",
      "metadata": {
        "colab": {
          "base_uri": "https://localhost:8080/",
          "height": 849
        },
        "id": "CA1mpJiUTPeT",
        "outputId": "ac3d675d-fb71-4941-c59e-6f534863e6f2"
      },
      "source": [
        "show_conf_matrix(test_conf_matrix[:16, :16], combinations[:16], 'Eval Confusion Matrix')"
      ],
      "execution_count": 187,
      "outputs": [
        {
          "output_type": "display_data",
          "data": {
            "image/png": "[encoded data removed]",
            "text/plain": [
              "<Figure size 1008x1008 with 1 Axes>"
            ]
          },
          "metadata": {
            "needs_background": "light"
          }
        }
      ]
    },
    {
      "cell_type": "code",
      "metadata": {
        "id": "Dyg7-a7hsNs3"
      },
      "source": [
        "def accuracy_by_group(df_train, df_test, label, truncate_n=None):\n",
        "  if truncate_n is not None:\n",
        "    n_train, n_test = truncate_n\n",
        "    #print(df.explode(label).groupby(label).filter(lambda l: truncate_n is None or len(l) > truncate_n)['correct'])\n",
        "    group_count_train = df_train.explode(label).groupby(label).filter(lambda l: truncate_n is None or len(l) > n_train).groupby(label)['correct']\n",
        "    group_count_test = df_test.explode(label).groupby(label).filter(lambda l: truncate_n is None or len(l) > n_test).groupby(label)['correct']\n",
        "  else:\n",
        "    group_count_train = df_train.explode(label).groupby(label)['correct']\n",
        "    group_count_test = df_test.explode(label).groupby(label)['correct']\n",
        "\n",
        "  return pd.DataFrame({\n",
        "      \"accuracy_train\": group_count_train.sum() / group_count_train.count(), \n",
        "      \"count_train\": pd.to_numeric(group_count_train.count(), downcast='integer'), \n",
        "      \"accuracy_test\": group_count_test.sum() / group_count_test.count(), \n",
        "      \"count_test\": pd.to_numeric(group_count_test.count(), downcast='integer')\n",
        "      }).dropna()"
      ],
      "execution_count": 322,
      "outputs": []
    },
    {
      "cell_type": "code",
      "metadata": {
        "colab": {
          "base_uri": "https://localhost:8080/",
          "height": 300
        },
        "id": "TtCAyvAmtFr2",
        "outputId": "2b7cc5b3-c575-41da-f425-87b17f9e48d6"
      },
      "source": [
        "accuracy_by_group(train_results_df, test_results_df, 'types')"
      ],
      "execution_count": 360,
      "outputs": [
        {
          "output_type": "execute_result",
          "data": {
            "text/html": [
              "<div>\n",
              "<style scoped>\n",
              "    .dataframe tbody tr th:only-of-type {\n",
              "        vertical-align: middle;\n",
              "    }\n",
              "\n",
              "    .dataframe tbody tr th {\n",
              "        vertical-align: top;\n",
              "    }\n",
              "\n",
              "    .dataframe thead th {\n",
              "        text-align: right;\n",
              "    }\n",
              "</style>\n",
              "<table border=\"1\" class=\"dataframe\">\n",
              "  <thead>\n",
              "    <tr style=\"text-align: right;\">\n",
              "      <th></th>\n",
              "      <th>accuracy_train</th>\n",
              "      <th>count_train</th>\n",
              "      <th>accuracy_test</th>\n",
              "      <th>count_test</th>\n",
              "    </tr>\n",
              "    <tr>\n",
              "      <th>types</th>\n",
              "      <th></th>\n",
              "      <th></th>\n",
              "      <th></th>\n",
              "      <th></th>\n",
              "    </tr>\n",
              "  </thead>\n",
              "  <tbody>\n",
              "    <tr>\n",
              "      <th>Artifact</th>\n",
              "      <td>0.180683</td>\n",
              "      <td>1201</td>\n",
              "      <td>0.144681</td>\n",
              "      <td>235</td>\n",
              "    </tr>\n",
              "    <tr>\n",
              "      <th>Creature</th>\n",
              "      <td>0.431146</td>\n",
              "      <td>6049</td>\n",
              "      <td>0.420354</td>\n",
              "      <td>1356</td>\n",
              "    </tr>\n",
              "    <tr>\n",
              "      <th>Enchantment</th>\n",
              "      <td>0.151010</td>\n",
              "      <td>1139</td>\n",
              "      <td>0.135246</td>\n",
              "      <td>244</td>\n",
              "    </tr>\n",
              "    <tr>\n",
              "      <th>Instant</th>\n",
              "      <td>0.242165</td>\n",
              "      <td>1404</td>\n",
              "      <td>0.244514</td>\n",
              "      <td>319</td>\n",
              "    </tr>\n",
              "    <tr>\n",
              "      <th>Planeswalker</th>\n",
              "      <td>0.117241</td>\n",
              "      <td>145</td>\n",
              "      <td>0.100000</td>\n",
              "      <td>40</td>\n",
              "    </tr>\n",
              "    <tr>\n",
              "      <th>Sorcery</th>\n",
              "      <td>0.177548</td>\n",
              "      <td>1256</td>\n",
              "      <td>0.166090</td>\n",
              "      <td>289</td>\n",
              "    </tr>\n",
              "    <tr>\n",
              "      <th>Tribal</th>\n",
              "      <td>0.365854</td>\n",
              "      <td>41</td>\n",
              "      <td>0.307692</td>\n",
              "      <td>13</td>\n",
              "    </tr>\n",
              "  </tbody>\n",
              "</table>\n",
              "</div>"
            ],
            "text/plain": [
              "              accuracy_train  count_train  accuracy_test  count_test\n",
              "types                                                               \n",
              "Artifact            0.180683         1201       0.144681         235\n",
              "Creature            0.431146         6049       0.420354        1356\n",
              "Enchantment         0.151010         1139       0.135246         244\n",
              "Instant             0.242165         1404       0.244514         319\n",
              "Planeswalker        0.117241          145       0.100000          40\n",
              "Sorcery             0.177548         1256       0.166090         289\n",
              "Tribal              0.365854           41       0.307692          13"
            ]
          },
          "metadata": {},
          "execution_count": 360
        }
      ]
    },
    {
      "cell_type": "code",
      "metadata": {
        "colab": {
          "base_uri": "https://localhost:8080/",
          "height": 143
        },
        "id": "DcOUXXC9xPNN",
        "outputId": "94283c20-ca15-4bb5-b5cc-10f783253ea9"
      },
      "source": [
        "accuracy_by_group(train_results_df, test_results_df, 'supertypes')"
      ],
      "execution_count": 324,
      "outputs": [
        {
          "output_type": "execute_result",
          "data": {
            "text/html": [
              "<div>\n",
              "<style scoped>\n",
              "    .dataframe tbody tr th:only-of-type {\n",
              "        vertical-align: middle;\n",
              "    }\n",
              "\n",
              "    .dataframe tbody tr th {\n",
              "        vertical-align: top;\n",
              "    }\n",
              "\n",
              "    .dataframe thead th {\n",
              "        text-align: right;\n",
              "    }\n",
              "</style>\n",
              "<table border=\"1\" class=\"dataframe\">\n",
              "  <thead>\n",
              "    <tr style=\"text-align: right;\">\n",
              "      <th></th>\n",
              "      <th>accuracy_train</th>\n",
              "      <th>count_train</th>\n",
              "      <th>accuracy_test</th>\n",
              "      <th>count_test</th>\n",
              "    </tr>\n",
              "    <tr>\n",
              "      <th>supertypes</th>\n",
              "      <th></th>\n",
              "      <th></th>\n",
              "      <th></th>\n",
              "      <th></th>\n",
              "    </tr>\n",
              "  </thead>\n",
              "  <tbody>\n",
              "    <tr>\n",
              "      <th>Legendary</th>\n",
              "      <td>0.234293</td>\n",
              "      <td>764</td>\n",
              "      <td>0.228070</td>\n",
              "      <td>171</td>\n",
              "    </tr>\n",
              "    <tr>\n",
              "      <th>Snow</th>\n",
              "      <td>0.571429</td>\n",
              "      <td>35</td>\n",
              "      <td>0.266667</td>\n",
              "      <td>15</td>\n",
              "    </tr>\n",
              "  </tbody>\n",
              "</table>\n",
              "</div>"
            ],
            "text/plain": [
              "            accuracy_train  count_train  accuracy_test  count_test\n",
              "supertypes                                                        \n",
              "Legendary         0.234293          764       0.228070         171\n",
              "Snow              0.571429           35       0.266667          15"
            ]
          },
          "metadata": {},
          "execution_count": 324
        }
      ]
    },
    {
      "cell_type": "code",
      "metadata": {
        "colab": {
          "base_uri": "https://localhost:8080/",
          "height": 739
        },
        "id": "5jVFh1FkxUsa",
        "outputId": "04ade0dd-05ca-4de8-90db-2d0e771a1fc2"
      },
      "source": [
        "accuracy_by_group(train_results_df, test_results_df, 'subtypes', truncate_n=(100, 20))"
      ],
      "execution_count": 362,
      "outputs": [
        {
          "output_type": "execute_result",
          "data": {
            "text/html": [
              "<div>\n",
              "<style scoped>\n",
              "    .dataframe tbody tr th:only-of-type {\n",
              "        vertical-align: middle;\n",
              "    }\n",
              "\n",
              "    .dataframe tbody tr th {\n",
              "        vertical-align: top;\n",
              "    }\n",
              "\n",
              "    .dataframe thead th {\n",
              "        text-align: right;\n",
              "    }\n",
              "</style>\n",
              "<table border=\"1\" class=\"dataframe\">\n",
              "  <thead>\n",
              "    <tr style=\"text-align: right;\">\n",
              "      <th></th>\n",
              "      <th>accuracy_train</th>\n",
              "      <th>count_train</th>\n",
              "      <th>accuracy_test</th>\n",
              "      <th>count_test</th>\n",
              "    </tr>\n",
              "  </thead>\n",
              "  <tbody>\n",
              "    <tr>\n",
              "      <th>Angel</th>\n",
              "      <td>0.754902</td>\n",
              "      <td>102.0</td>\n",
              "      <td>0.680000</td>\n",
              "      <td>25.0</td>\n",
              "    </tr>\n",
              "    <tr>\n",
              "      <th>Aura</th>\n",
              "      <td>0.137931</td>\n",
              "      <td>493.0</td>\n",
              "      <td>0.079545</td>\n",
              "      <td>88.0</td>\n",
              "    </tr>\n",
              "    <tr>\n",
              "      <th>Beast</th>\n",
              "      <td>0.418079</td>\n",
              "      <td>177.0</td>\n",
              "      <td>0.321429</td>\n",
              "      <td>56.0</td>\n",
              "    </tr>\n",
              "    <tr>\n",
              "      <th>Cat</th>\n",
              "      <td>0.362832</td>\n",
              "      <td>113.0</td>\n",
              "      <td>0.250000</td>\n",
              "      <td>24.0</td>\n",
              "    </tr>\n",
              "    <tr>\n",
              "      <th>Cleric</th>\n",
              "      <td>0.625000</td>\n",
              "      <td>200.0</td>\n",
              "      <td>0.600000</td>\n",
              "      <td>50.0</td>\n",
              "    </tr>\n",
              "    <tr>\n",
              "      <th>Dragon</th>\n",
              "      <td>0.511278</td>\n",
              "      <td>133.0</td>\n",
              "      <td>0.523810</td>\n",
              "      <td>21.0</td>\n",
              "    </tr>\n",
              "    <tr>\n",
              "      <th>Druid</th>\n",
              "      <td>0.773585</td>\n",
              "      <td>106.0</td>\n",
              "      <td>0.772727</td>\n",
              "      <td>22.0</td>\n",
              "    </tr>\n",
              "    <tr>\n",
              "      <th>Elemental</th>\n",
              "      <td>0.131148</td>\n",
              "      <td>305.0</td>\n",
              "      <td>0.057143</td>\n",
              "      <td>70.0</td>\n",
              "    </tr>\n",
              "    <tr>\n",
              "      <th>Elf</th>\n",
              "      <td>0.733333</td>\n",
              "      <td>240.0</td>\n",
              "      <td>0.777778</td>\n",
              "      <td>63.0</td>\n",
              "    </tr>\n",
              "    <tr>\n",
              "      <th>Equipment</th>\n",
              "      <td>0.527778</td>\n",
              "      <td>216.0</td>\n",
              "      <td>0.513514</td>\n",
              "      <td>37.0</td>\n",
              "    </tr>\n",
              "    <tr>\n",
              "      <th>Goblin</th>\n",
              "      <td>0.662162</td>\n",
              "      <td>222.0</td>\n",
              "      <td>0.636364</td>\n",
              "      <td>44.0</td>\n",
              "    </tr>\n",
              "    <tr>\n",
              "      <th>Human</th>\n",
              "      <td>0.432836</td>\n",
              "      <td>1206.0</td>\n",
              "      <td>0.434629</td>\n",
              "      <td>283.0</td>\n",
              "    </tr>\n",
              "    <tr>\n",
              "      <th>Knight</th>\n",
              "      <td>0.505952</td>\n",
              "      <td>168.0</td>\n",
              "      <td>0.500000</td>\n",
              "      <td>52.0</td>\n",
              "    </tr>\n",
              "    <tr>\n",
              "      <th>Merfolk</th>\n",
              "      <td>0.547445</td>\n",
              "      <td>137.0</td>\n",
              "      <td>0.518519</td>\n",
              "      <td>27.0</td>\n",
              "    </tr>\n",
              "    <tr>\n",
              "      <th>Rogue</th>\n",
              "      <td>0.243523</td>\n",
              "      <td>193.0</td>\n",
              "      <td>0.264706</td>\n",
              "      <td>34.0</td>\n",
              "    </tr>\n",
              "    <tr>\n",
              "      <th>Shaman</th>\n",
              "      <td>0.322807</td>\n",
              "      <td>285.0</td>\n",
              "      <td>0.385965</td>\n",
              "      <td>57.0</td>\n",
              "    </tr>\n",
              "    <tr>\n",
              "      <th>Soldier</th>\n",
              "      <td>0.624642</td>\n",
              "      <td>349.0</td>\n",
              "      <td>0.592105</td>\n",
              "      <td>76.0</td>\n",
              "    </tr>\n",
              "    <tr>\n",
              "      <th>Spirit</th>\n",
              "      <td>0.272171</td>\n",
              "      <td>327.0</td>\n",
              "      <td>0.301587</td>\n",
              "      <td>63.0</td>\n",
              "    </tr>\n",
              "    <tr>\n",
              "      <th>Vampire</th>\n",
              "      <td>0.391061</td>\n",
              "      <td>179.0</td>\n",
              "      <td>0.333333</td>\n",
              "      <td>36.0</td>\n",
              "    </tr>\n",
              "    <tr>\n",
              "      <th>Warrior</th>\n",
              "      <td>0.448413</td>\n",
              "      <td>504.0</td>\n",
              "      <td>0.387597</td>\n",
              "      <td>129.0</td>\n",
              "    </tr>\n",
              "    <tr>\n",
              "      <th>Wizard</th>\n",
              "      <td>0.482599</td>\n",
              "      <td>431.0</td>\n",
              "      <td>0.481132</td>\n",
              "      <td>106.0</td>\n",
              "    </tr>\n",
              "    <tr>\n",
              "      <th>Zombie</th>\n",
              "      <td>0.492537</td>\n",
              "      <td>268.0</td>\n",
              "      <td>0.447761</td>\n",
              "      <td>67.0</td>\n",
              "    </tr>\n",
              "  </tbody>\n",
              "</table>\n",
              "</div>"
            ],
            "text/plain": [
              "           accuracy_train  count_train  accuracy_test  count_test\n",
              "Angel            0.754902        102.0       0.680000        25.0\n",
              "Aura             0.137931        493.0       0.079545        88.0\n",
              "Beast            0.418079        177.0       0.321429        56.0\n",
              "Cat              0.362832        113.0       0.250000        24.0\n",
              "Cleric           0.625000        200.0       0.600000        50.0\n",
              "Dragon           0.511278        133.0       0.523810        21.0\n",
              "Druid            0.773585        106.0       0.772727        22.0\n",
              "Elemental        0.131148        305.0       0.057143        70.0\n",
              "Elf              0.733333        240.0       0.777778        63.0\n",
              "Equipment        0.527778        216.0       0.513514        37.0\n",
              "Goblin           0.662162        222.0       0.636364        44.0\n",
              "Human            0.432836       1206.0       0.434629       283.0\n",
              "Knight           0.505952        168.0       0.500000        52.0\n",
              "Merfolk          0.547445        137.0       0.518519        27.0\n",
              "Rogue            0.243523        193.0       0.264706        34.0\n",
              "Shaman           0.322807        285.0       0.385965        57.0\n",
              "Soldier          0.624642        349.0       0.592105        76.0\n",
              "Spirit           0.272171        327.0       0.301587        63.0\n",
              "Vampire          0.391061        179.0       0.333333        36.0\n",
              "Warrior          0.448413        504.0       0.387597       129.0\n",
              "Wizard           0.482599        431.0       0.481132       106.0\n",
              "Zombie           0.492537        268.0       0.447761        67.0"
            ]
          },
          "metadata": {},
          "execution_count": 362
        }
      ]
    },
    {
      "cell_type": "code",
      "metadata": {
        "colab": {
          "base_uri": "https://localhost:8080/",
          "height": 488
        },
        "id": "zUIY6Hg70sF5",
        "outputId": "e2726f4d-5fdc-40e4-8199-31644cb8e3bd"
      },
      "source": [
        "accuracy_by_group(train_results_df, test_results_df, 'convertedManaCost')"
      ],
      "execution_count": 326,
      "outputs": [
        {
          "output_type": "execute_result",
          "data": {
            "text/html": [
              "<div>\n",
              "<style scoped>\n",
              "    .dataframe tbody tr th:only-of-type {\n",
              "        vertical-align: middle;\n",
              "    }\n",
              "\n",
              "    .dataframe tbody tr th {\n",
              "        vertical-align: top;\n",
              "    }\n",
              "\n",
              "    .dataframe thead th {\n",
              "        text-align: right;\n",
              "    }\n",
              "</style>\n",
              "<table border=\"1\" class=\"dataframe\">\n",
              "  <thead>\n",
              "    <tr style=\"text-align: right;\">\n",
              "      <th></th>\n",
              "      <th>accuracy_train</th>\n",
              "      <th>count_train</th>\n",
              "      <th>accuracy_test</th>\n",
              "      <th>count_test</th>\n",
              "    </tr>\n",
              "    <tr>\n",
              "      <th>convertedManaCost</th>\n",
              "      <th></th>\n",
              "      <th></th>\n",
              "      <th></th>\n",
              "      <th></th>\n",
              "    </tr>\n",
              "  </thead>\n",
              "  <tbody>\n",
              "    <tr>\n",
              "      <th>0.0</th>\n",
              "      <td>0.060606</td>\n",
              "      <td>33</td>\n",
              "      <td>0.000000</td>\n",
              "      <td>8.0</td>\n",
              "    </tr>\n",
              "    <tr>\n",
              "      <th>1.0</th>\n",
              "      <td>0.289778</td>\n",
              "      <td>1125</td>\n",
              "      <td>0.265306</td>\n",
              "      <td>245.0</td>\n",
              "    </tr>\n",
              "    <tr>\n",
              "      <th>2.0</th>\n",
              "      <td>0.329695</td>\n",
              "      <td>2199</td>\n",
              "      <td>0.329502</td>\n",
              "      <td>522.0</td>\n",
              "    </tr>\n",
              "    <tr>\n",
              "      <th>3.0</th>\n",
              "      <td>0.323264</td>\n",
              "      <td>2549</td>\n",
              "      <td>0.334545</td>\n",
              "      <td>550.0</td>\n",
              "    </tr>\n",
              "    <tr>\n",
              "      <th>4.0</th>\n",
              "      <td>0.325447</td>\n",
              "      <td>2071</td>\n",
              "      <td>0.286344</td>\n",
              "      <td>454.0</td>\n",
              "    </tr>\n",
              "    <tr>\n",
              "      <th>5.0</th>\n",
              "      <td>0.308908</td>\n",
              "      <td>1392</td>\n",
              "      <td>0.316294</td>\n",
              "      <td>313.0</td>\n",
              "    </tr>\n",
              "    <tr>\n",
              "      <th>6.0</th>\n",
              "      <td>0.353374</td>\n",
              "      <td>815</td>\n",
              "      <td>0.367816</td>\n",
              "      <td>174.0</td>\n",
              "    </tr>\n",
              "    <tr>\n",
              "      <th>7.0</th>\n",
              "      <td>0.420118</td>\n",
              "      <td>338</td>\n",
              "      <td>0.337838</td>\n",
              "      <td>74.0</td>\n",
              "    </tr>\n",
              "    <tr>\n",
              "      <th>8.0</th>\n",
              "      <td>0.286885</td>\n",
              "      <td>122</td>\n",
              "      <td>0.444444</td>\n",
              "      <td>27.0</td>\n",
              "    </tr>\n",
              "    <tr>\n",
              "      <th>9.0</th>\n",
              "      <td>0.325581</td>\n",
              "      <td>43</td>\n",
              "      <td>0.111111</td>\n",
              "      <td>9.0</td>\n",
              "    </tr>\n",
              "    <tr>\n",
              "      <th>10.0</th>\n",
              "      <td>0.238095</td>\n",
              "      <td>21</td>\n",
              "      <td>0.000000</td>\n",
              "      <td>4.0</td>\n",
              "    </tr>\n",
              "    <tr>\n",
              "      <th>11.0</th>\n",
              "      <td>0.428571</td>\n",
              "      <td>7</td>\n",
              "      <td>0.000000</td>\n",
              "      <td>1.0</td>\n",
              "    </tr>\n",
              "    <tr>\n",
              "      <th>12.0</th>\n",
              "      <td>0.400000</td>\n",
              "      <td>5</td>\n",
              "      <td>0.000000</td>\n",
              "      <td>1.0</td>\n",
              "    </tr>\n",
              "  </tbody>\n",
              "</table>\n",
              "</div>"
            ],
            "text/plain": [
              "                   accuracy_train  count_train  accuracy_test  count_test\n",
              "convertedManaCost                                                        \n",
              "0.0                      0.060606           33       0.000000         8.0\n",
              "1.0                      0.289778         1125       0.265306       245.0\n",
              "2.0                      0.329695         2199       0.329502       522.0\n",
              "3.0                      0.323264         2549       0.334545       550.0\n",
              "4.0                      0.325447         2071       0.286344       454.0\n",
              "5.0                      0.308908         1392       0.316294       313.0\n",
              "6.0                      0.353374          815       0.367816       174.0\n",
              "7.0                      0.420118          338       0.337838        74.0\n",
              "8.0                      0.286885          122       0.444444        27.0\n",
              "9.0                      0.325581           43       0.111111         9.0\n",
              "10.0                     0.238095           21       0.000000         4.0\n",
              "11.0                     0.428571            7       0.000000         1.0\n",
              "12.0                     0.400000            5       0.000000         1.0"
            ]
          },
          "metadata": {},
          "execution_count": 326
        }
      ]
    },
    {
      "cell_type": "code",
      "metadata": {
        "colab": {
          "base_uri": "https://localhost:8080/",
          "height": 238
        },
        "id": "6502mBv-001F",
        "outputId": "16ed4445-bc0b-4b4d-9d60-7c69c4dd7fa3"
      },
      "source": [
        "accuracy_by_group(train_results_df, test_results_df, 'colors')"
      ],
      "execution_count": 364,
      "outputs": [
        {
          "output_type": "execute_result",
          "data": {
            "text/html": [
              "<div>\n",
              "<style scoped>\n",
              "    .dataframe tbody tr th:only-of-type {\n",
              "        vertical-align: middle;\n",
              "    }\n",
              "\n",
              "    .dataframe tbody tr th {\n",
              "        vertical-align: top;\n",
              "    }\n",
              "\n",
              "    .dataframe thead th {\n",
              "        text-align: right;\n",
              "    }\n",
              "</style>\n",
              "<table border=\"1\" class=\"dataframe\">\n",
              "  <thead>\n",
              "    <tr style=\"text-align: right;\">\n",
              "      <th></th>\n",
              "      <th>accuracy_train</th>\n",
              "      <th>count_train</th>\n",
              "      <th>accuracy_test</th>\n",
              "      <th>count_test</th>\n",
              "    </tr>\n",
              "    <tr>\n",
              "      <th>colors</th>\n",
              "      <th></th>\n",
              "      <th></th>\n",
              "      <th></th>\n",
              "      <th></th>\n",
              "    </tr>\n",
              "  </thead>\n",
              "  <tbody>\n",
              "    <tr>\n",
              "      <th>B</th>\n",
              "      <td>0.291031</td>\n",
              "      <td>2230</td>\n",
              "      <td>0.281437</td>\n",
              "      <td>501</td>\n",
              "    </tr>\n",
              "    <tr>\n",
              "      <th>G</th>\n",
              "      <td>0.290498</td>\n",
              "      <td>2210</td>\n",
              "      <td>0.328000</td>\n",
              "      <td>500</td>\n",
              "    </tr>\n",
              "    <tr>\n",
              "      <th>R</th>\n",
              "      <td>0.212967</td>\n",
              "      <td>2221</td>\n",
              "      <td>0.178000</td>\n",
              "      <td>500</td>\n",
              "    </tr>\n",
              "    <tr>\n",
              "      <th>U</th>\n",
              "      <td>0.357143</td>\n",
              "      <td>2212</td>\n",
              "      <td>0.331313</td>\n",
              "      <td>495</td>\n",
              "    </tr>\n",
              "    <tr>\n",
              "      <th>W</th>\n",
              "      <td>0.393683</td>\n",
              "      <td>2248</td>\n",
              "      <td>0.385827</td>\n",
              "      <td>508</td>\n",
              "    </tr>\n",
              "  </tbody>\n",
              "</table>\n",
              "</div>"
            ],
            "text/plain": [
              "        accuracy_train  count_train  accuracy_test  count_test\n",
              "colors                                                        \n",
              "B             0.291031         2230       0.281437         501\n",
              "G             0.290498         2210       0.328000         500\n",
              "R             0.212967         2221       0.178000         500\n",
              "U             0.357143         2212       0.331313         495\n",
              "W             0.393683         2248       0.385827         508"
            ]
          },
          "metadata": {},
          "execution_count": 364
        }
      ]
    },
    {
      "cell_type": "code",
      "metadata": {
        "id": "rIzAXcp0T8N7"
      },
      "source": [
        "def hamming_loss_func(df):\n",
        "  mlb = MultiLabelBinarizer(classes=['W', 'U', 'B', 'R', 'G'])\n",
        "  y_true = mlb.fit_transform(df['colors'].tolist())\n",
        "  y_pred = mlb.fit_transform(df['predicted_colors'].tolist())\n",
        "  return hamming_loss(y_true, y_pred)\n",
        "\n",
        "def jaccard_score_func(df):\n",
        "  mlb = MultiLabelBinarizer(classes=['W', 'U', 'B', 'R', 'G'])\n",
        "  y_true = mlb.fit_transform(df['colors'].tolist())\n",
        "  y_pred = mlb.fit_transform(df['predicted_colors'].tolist())\n",
        "  return jaccard_score(y_true, y_pred, average='weighted')"
      ],
      "execution_count": 356,
      "outputs": []
    },
    {
      "cell_type": "code",
      "metadata": {
        "colab": {
          "base_uri": "https://localhost:8080/"
        },
        "id": "-6WvauxoUVmh",
        "outputId": "31758984-3d28-4421-d314-2677b7a8c248"
      },
      "source": [
        "hamming_loss_train = hamming_loss_func(train_results_df)\n",
        "hamming_loss_test = hamming_loss_func(test_results_df)\n",
        "print('train hamming loss:', hamming_loss_train, 'test hamming loss:', hamming_loss_test)"
      ],
      "execution_count": 354,
      "outputs": [
        {
          "output_type": "stream",
          "name": "stdout",
          "text": [
            "train hamming loss: 0.22105557627750838 test hamming loss: 0.22367758186397985\n"
          ]
        }
      ]
    },
    {
      "cell_type": "code",
      "metadata": {
        "colab": {
          "base_uri": "https://localhost:8080/"
        },
        "id": "ZEQuPgL0Vz43",
        "outputId": "5ebdce12-f914-4050-da18-5fd15392b972"
      },
      "source": [
        "jaccard_score_train = jaccard_score_func(train_results_df)\n",
        "jaccard_score_test = jaccard_score_func(test_results_df)\n",
        "print('train jaccard_score:', jaccard_score_train, 'test jaccard_score:', jaccard_score_test)"
      ],
      "execution_count": 357,
      "outputs": [
        {
          "output_type": "stream",
          "name": "stdout",
          "text": [
            "train jaccard_score: 0.3285351969604516 test jaccard_score: 0.3273370058174219\n"
          ]
        }
      ]
    }
  ]
}